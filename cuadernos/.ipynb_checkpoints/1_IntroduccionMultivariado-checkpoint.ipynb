{
 "cells": [
  {
   "cell_type": "markdown",
   "metadata": {
    "colab_type": "text",
    "id": "_-xoDT2t10zX"
   },
   "source": [
    "# Analisis descriptivo multivariado\n",
    "\n",
    "**Universidad Central**\n",
    "\n",
    "*Nelson Alirio Cruz*"
   ]
  },
  {
   "cell_type": "code",
   "execution_count": null,
   "metadata": {
    "colab": {},
    "colab_type": "code",
    "id": "1AxcbAZPsGj7"
   },
   "outputs": [],
   "source": [
    "from pydoc import help \n",
    "import pandas as pd\n",
    "import numpy as np\n",
    "import matplotlib.pyplot as plt\n",
    "import seaborn as sns\n",
    "import plotly.express as px"
   ]
  },
  {
   "cell_type": "markdown",
   "metadata": {
    "colab_type": "text",
    "id": "FndWTQu-Fwmy"
   },
   "source": [
    "## Cereal\n",
    "\n",
    "Vamos a cargar la base de datos de Cereal, que contiene información nutricional de diferentes cereales."
   ]
  },
  {
   "cell_type": "code",
   "execution_count": null,
   "metadata": {
    "colab": {
     "base_uri": "https://localhost:8080/",
     "height": 297
    },
    "colab_type": "code",
    "id": "TgvHCV1WF9jn",
    "outputId": "20c5d6f2-c3b0-4f3a-c1f3-ec360d7dac3e"
   },
   "outputs": [],
   "source": [
    "url=\"https://raw.githubusercontent.com/Cruzalirio/Ucentral/master/Bases/Cereal.csv\"\n",
    "datos=pd.read_csv(url, sep=\";\", decimal=\",\", index_col=0)\n",
    "datos.dtypes\n",
    "datos.columns"
   ]
  },
  {
   "cell_type": "code",
   "execution_count": null,
   "metadata": {
    "colab": {
     "base_uri": "https://localhost:8080/",
     "height": 170
    },
    "colab_type": "code",
    "id": "gzbs5GcVHExf",
    "outputId": "20379b04-619c-44d8-f516-df5a1f386b13"
   },
   "outputs": [],
   "source": [
    "cuanti=datos[['Calorias', 'Proteina', 'Grasa', 'Sodio', 'Fibra',\n",
    "       'Carbohidratos', 'Azucares', 'Potasio']]\n",
    "cuanti.dtypes"
   ]
  },
  {
   "cell_type": "markdown",
   "metadata": {
    "colab_type": "text",
    "id": "OY0lUK_XlgxZ"
   },
   "source": [
    "# Matriz de covarianzas y de correlación\n",
    "\n",
    "Cuando se tiene un conjunto de variables cuantitativas, por cada par de ellas se calcula la covarianza:\n",
    "$Cov(X,Y)=\\frac{1}{n-1}\\sum_{i=1}^n (X_i-\\bar{X})(Y_i-\\bar{Y})$\n",
    "Estos valores conformaran la matriz de covarianzas.\n",
    "EL coeficiente de correlación lineal se define como:\n",
    "$\\rho_{XY}=\\frac{Cov(X;Y)}{sd(X)sd(Y)}$\n"
   ]
  },
  {
   "cell_type": "code",
   "execution_count": null,
   "metadata": {
    "colab": {
     "base_uri": "https://localhost:8080/",
     "height": 317
    },
    "colab_type": "code",
    "id": "DCPdqOcHHwea",
    "outputId": "c8cbb309-4955-4ac2-fbd5-9833b7f3e18f"
   },
   "outputs": [],
   "source": [
    "covarianza=cuanti.cov()\n",
    "covarianza"
   ]
  },
  {
   "cell_type": "code",
   "execution_count": null,
   "metadata": {
    "colab": {
     "base_uri": "https://localhost:8080/",
     "height": 317
    },
    "colab_type": "code",
    "id": "JMqWn9WAI_sL",
    "outputId": "a1b559b1-9273-4bbf-ee0b-f01aa844c1bd"
   },
   "outputs": [],
   "source": [
    "corre=cuanti.corr()\n",
    "corre"
   ]
  },
  {
   "cell_type": "code",
   "execution_count": null,
   "metadata": {
    "colab": {
     "base_uri": "https://localhost:8080/",
     "height": 347
    },
    "colab_type": "code",
    "id": "gPEl0GRNJMZS",
    "outputId": "f3689a92-5e82-4a72-a890-fb555fc0cf45"
   },
   "outputs": [],
   "source": [
    "sns.heatmap(corre)"
   ]
  },
  {
   "cell_type": "code",
   "execution_count": null,
   "metadata": {
    "colab": {
     "base_uri": "https://localhost:8080/",
     "height": 347
    },
    "colab_type": "code",
    "id": "WEu1HupGMPru",
    "outputId": "deb37895-95e2-4572-c2b8-1208c44be22f"
   },
   "outputs": [],
   "source": [
    "sns.heatmap(corre, annot=True)"
   ]
  },
  {
   "cell_type": "markdown",
   "metadata": {
    "colab_type": "text",
    "id": "sM-kW3hQzEQP"
   },
   "source": [
    "# Diagramas de dispersión\n",
    "El diagrama de dispersión sirve para visualizar relaciones entre un par de variables cuantitativas.\n",
    "\n"
   ]
  },
  {
   "cell_type": "code",
   "execution_count": null,
   "metadata": {
    "colab": {
     "base_uri": "https://localhost:8080/",
     "height": 611
    },
    "colab_type": "code",
    "id": "C7XHW9LKKQpy",
    "outputId": "1512c54b-717b-4d38-d0bf-d068b14d2b72"
   },
   "outputs": [],
   "source": [
    "pd.plotting.scatter_matrix(cuanti,  figsize=(10, 10))\n",
    "plt.show()"
   ]
  },
  {
   "cell_type": "code",
   "execution_count": null,
   "metadata": {
    "colab": {
     "base_uri": "https://localhost:8080/",
     "height": 628
    },
    "colab_type": "code",
    "id": "Ajw3lrThLdH8",
    "outputId": "1e2234d3-da7c-47c8-e6b1-f5be209aaf5d"
   },
   "outputs": [],
   "source": [
    "pd.plotting.scatter_matrix(cuanti,  figsize=(10, 10), diagonal=\"kde\")\n",
    "plt.show()\n"
   ]
  },
  {
   "cell_type": "markdown",
   "metadata": {
    "colab_type": "text",
    "id": "EuYKCMIdxacf"
   },
   "source": [
    "# Tablas de contingencia\n",
    "\n",
    "Una tabla de contingencia contiene los conteos de una o más variables cualitativas."
   ]
  },
  {
   "cell_type": "code",
   "execution_count": null,
   "metadata": {
    "colab": {
     "base_uri": "https://localhost:8080/",
     "height": 102
    },
    "colab_type": "code",
    "id": "AG7MkYPyMVLk",
    "outputId": "a4cbe4c0-c773-4e3f-bab4-807d3bb3bde9"
   },
   "outputs": [],
   "source": [
    "url=\"https://raw.githubusercontent.com/Cruzalirio/Ucentral/master/Bases/ICFES/PruebaSaber1.csv\"\n",
    "datos1=pd.read_csv(url, sep=\";\", encoding=\"latin1\")\n",
    "datos1.shape"
   ]
  },
  {
   "cell_type": "code",
   "execution_count": null,
   "metadata": {
    "colab": {
     "base_uri": "https://localhost:8080/",
     "height": 272
    },
    "colab_type": "code",
    "id": "0EazgiXJObv2",
    "outputId": "a73db77a-dd8a-448d-e5a7-9ec85272f415"
   },
   "outputs": [],
   "source": [
    "datos1.shape\n",
    "tabla=pd.crosstab(datos1.FAMI_CUARTOSHOGAR, datos1.FAMI_NIVEL_SISBEN)\n",
    "print(tabla)"
   ]
  },
  {
   "cell_type": "code",
   "execution_count": null,
   "metadata": {
    "colab": {
     "base_uri": "https://localhost:8080/",
     "height": 488
    },
    "colab_type": "code",
    "id": "6hv0JTGjPbnr",
    "outputId": "83351768-c522-419a-9155-632bc0112b13"
   },
   "outputs": [],
   "source": [
    "sns.heatmap(tabla)"
   ]
  },
  {
   "cell_type": "markdown",
   "metadata": {
    "colab_type": "text",
    "id": "AZTnSleHZyTn"
   },
   "source": [
    "# Otros gráficos multivariados\n"
   ]
  },
  {
   "cell_type": "code",
   "execution_count": null,
   "metadata": {
    "colab": {
     "base_uri": "https://localhost:8080/",
     "height": 799
    },
    "colab_type": "code",
    "id": "Grqzs898QIYU",
    "outputId": "02600a33-e93a-4c7a-ddcb-185492cb349c"
   },
   "outputs": [],
   "source": [
    "tabla=datos1.groupby([\"FAMI_CUARTOSHOGAR\", \"FAMI_NIVEL_SISBEN\"]).size()\n",
    "print(tabla)"
   ]
  },
  {
   "cell_type": "code",
   "execution_count": null,
   "metadata": {
    "colab": {
     "base_uri": "https://localhost:8080/",
     "height": 918
    },
    "colab_type": "code",
    "id": "VbWXJZVoSybC",
    "outputId": "8cfae1a5-9657-40de-f903-35f4d15dffdf"
   },
   "outputs": [],
   "source": [
    "tabla=datos1.groupby([\"FAMI_CUARTOSHOGAR\", \"FAMI_NIVEL_SISBEN\"]).size()\n",
    "tabla=tabla.reset_index(name=\"Conteo\")\n",
    "print(tabla)"
   ]
  },
  {
   "cell_type": "code",
   "execution_count": null,
   "metadata": {
    "colab": {
     "base_uri": "https://localhost:8080/",
     "height": 542
    },
    "colab_type": "code",
    "id": "PNywURRJSkTB",
    "outputId": "8ff71839-d684-4f95-be36-205274899858"
   },
   "outputs": [],
   "source": [
    "fig = px.bar(tabla, x=\"FAMI_CUARTOSHOGAR\", y=\"Conteo\", color=\"FAMI_NIVEL_SISBEN\")\n",
    "fig.show()"
   ]
  },
  {
   "cell_type": "code",
   "execution_count": null,
   "metadata": {
    "colab": {
     "base_uri": "https://localhost:8080/",
     "height": 340
    },
    "colab_type": "code",
    "id": "eYix5GBuURup",
    "outputId": "0b77c907-e87a-481b-b376-4de3293764be"
   },
   "outputs": [],
   "source": [
    "url=\"https://raw.githubusercontent.com/Cruzalirio/Ucentral/master/Bases/ICFES/PruebaSaber1.csv\"\n",
    "datos1=pd.read_csv(url, sep=\";\", encoding=\"latin1\")\n",
    "for i in range(11):\n",
    " j=i+2\n",
    " x=[\"https://raw.githubusercontent.com/Cruzalirio/Ucentral/master/Bases/ICFES/PruebaSaber\",j, \".csv\"]\n",
    " x[1]=str(x[1])\n",
    " url=\"\".join(x)\n",
    " print(url)\n",
    " datosd=pd.read_csv(url, sep=\";\", encoding=\"latin1\")\n",
    " datos1=pd.concat([datos1, datosd])\n",
    "\n"
   ]
  },
  {
   "cell_type": "code",
   "execution_count": null,
   "metadata": {
    "colab": {
     "base_uri": "https://localhost:8080/",
     "height": 463
    },
    "colab_type": "code",
    "id": "hOajvA4EZxV5",
    "outputId": "6774cfff-9443-41b2-b08d-1b76a899b793"
   },
   "outputs": [],
   "source": [
    "corre=datos1.corr()\n",
    "sns.heatmap(corre)"
   ]
  },
  {
   "cell_type": "code",
   "execution_count": null,
   "metadata": {
    "colab": {
     "base_uri": "https://localhost:8080/",
     "height": 542
    },
    "colab_type": "code",
    "id": "XF6XtpNeYMdM",
    "outputId": "1dc0826d-950c-4281-d081-1aaf2b566bc1"
   },
   "outputs": [],
   "source": [
    "tabla=datos1.groupby([\"FAMI_CUARTOSHOGAR\", \"FAMI_NIVEL_SISBEN\"]).size()\n",
    "tabla=tabla.reset_index(name=\"Conteo\")\n",
    "fig = px.bar(tabla, x=\"FAMI_CUARTOSHOGAR\", y=\"Conteo\", color=\"FAMI_NIVEL_SISBEN\")\n",
    "fig.show()"
   ]
  },
  {
   "cell_type": "code",
   "execution_count": null,
   "metadata": {
    "colab": {
     "base_uri": "https://localhost:8080/",
     "height": 542
    },
    "colab_type": "code",
    "id": "556vQRrjYgUz",
    "outputId": "9bc71deb-6697-49d1-ab69-0fe444cb2fa3"
   },
   "outputs": [],
   "source": [
    "fig = px.scatter(datos1, x=\"MOD_RAZONA_CUANTITAT_PUNT\", \n",
    "                 y=\"MOD_LECTURA_CRITICA_PUNT\")\n",
    "fig.show()"
   ]
  },
  {
   "cell_type": "code",
   "execution_count": null,
   "metadata": {
    "colab": {
     "base_uri": "https://localhost:8080/",
     "height": 986
    },
    "colab_type": "code",
    "id": "0FbG1nldauK9",
    "outputId": "12d00db7-412b-4000-d9f7-68784368d489"
   },
   "outputs": [],
   "source": [
    "tabla=datos1.groupby([datos1.ESTU_GENERO, datos1.ESTU_INST_DEPARTAMENTO]).mean()\n",
    "tabla=tabla.reset_index()\n",
    "print(tabla)"
   ]
  },
  {
   "cell_type": "code",
   "execution_count": null,
   "metadata": {
    "colab": {
     "base_uri": "https://localhost:8080/",
     "height": 542
    },
    "colab_type": "code",
    "id": "xcU3lWdcbhQN",
    "outputId": "64f8bee4-22a4-407f-aab1-1d60b41ad1de"
   },
   "outputs": [],
   "source": [
    "fig = px.scatter(tabla, x=\"MOD_RAZONA_CUANTITAT_PUNT\", \n",
    "                 y=\"MOD_LECTURA_CRITICA_PUNT\", color=\"ESTU_GENERO\")\n",
    "fig.show()"
   ]
  },
  {
   "cell_type": "code",
   "execution_count": null,
   "metadata": {
    "colab": {
     "base_uri": "https://localhost:8080/",
     "height": 542
    },
    "colab_type": "code",
    "id": "BrF8CD-NbwKb",
    "outputId": "ad8d57ae-6d9b-4a0a-f6e4-9fce0bf8da62"
   },
   "outputs": [],
   "source": [
    "tabla1=datos1.groupby([datos1.ESTU_GENERO, datos1.ESTU_INST_DEPARTAMENTO]).size()\n",
    "tabla1=tabla1.reset_index(name=\"Conteo\")\n",
    "tabla[\"Conteo\"]=tabla1.Conteo\n",
    "fig = px.scatter(tabla, x=\"MOD_RAZONA_CUANTITAT_PUNT\", \n",
    "                 y=\"MOD_LECTURA_CRITICA_PUNT\", color=\"ESTU_GENERO\", size=\"Conteo\", hover_name=\"ESTU_INST_DEPARTAMENTO\")\n",
    "fig.show()"
   ]
  },
  {
   "cell_type": "code",
   "execution_count": null,
   "metadata": {
    "colab": {
     "base_uri": "https://localhost:8080/",
     "height": 542
    },
    "colab_type": "code",
    "id": "xixxCOLrfvxQ",
    "outputId": "26a9d337-32bb-4a68-a953-32c9c0262976"
   },
   "outputs": [],
   "source": [
    "fig = px.density_contour(datos1, x=datos1.MOD_LECTURA_CRITICA_PUNT,\n",
    "                         y=datos1.MOD_RAZONA_CUANTITAT_PUNT)\n",
    "fig.update_traces(contours_coloring=\"fill\", contours_showlabels = True)\n",
    "fig.show()"
   ]
  },
  {
   "cell_type": "code",
   "execution_count": null,
   "metadata": {
    "colab": {
     "base_uri": "https://localhost:8080/",
     "height": 542
    },
    "colab_type": "code",
    "id": "b2WWcL4jh0Xw",
    "outputId": "f2f4691f-34cc-48a3-b9c9-f48194113e83"
   },
   "outputs": [],
   "source": [
    "fig = px.density_contour(datos1,x=datos1.MOD_RAZONA_CUANTITAT_PUNT,\n",
    "                         y=datos1.MOD_COMPETEN_CIUDADA_PUNT)\n",
    "fig.update_traces(contours_coloring=\"fill\", contours_showlabels = True)\n",
    "fig.show()"
   ]
  },
  {
   "cell_type": "code",
   "execution_count": null,
   "metadata": {
    "colab": {
     "base_uri": "https://localhost:8080/",
     "height": 542
    },
    "colab_type": "code",
    "id": "D3K-PWvcyMMv",
    "outputId": "e49c7127-f6cd-4804-85e3-0a91dfda41ae"
   },
   "outputs": [],
   "source": [
    "df = px.data.wind()\n",
    "fig = px.bar_polar(tabla, r=tabla.MOD_COMUNI_ESCRITA_PUNT, theta=tabla.ESTU_INST_DEPARTAMENTO,\n",
    "                   color=tabla.ESTU_GENERO, template=\"plotly_dark\",\n",
    "                   color_discrete_sequence= px.colors.sequential.Plasma_r)\n",
    "fig.show()"
   ]
  },
  {
   "cell_type": "code",
   "execution_count": null,
   "metadata": {
    "colab": {
     "base_uri": "https://localhost:8080/",
     "height": 542
    },
    "colab_type": "code",
    "id": "YxUF8fOc0XpC",
    "outputId": "7bab43e1-61fb-48c7-f1ca-c2fbafcc5abf"
   },
   "outputs": [],
   "source": [
    "tabla2=tabla[tabla[\"Conteo\"]>2]\n",
    "fig = px.bar_polar(tabla2, r=tabla.MOD_COMUNI_ESCRITA_PUNT, theta=tabla.ESTU_INST_DEPARTAMENTO,\n",
    "                   color=tabla.ESTU_GENERO, template=\"plotly_dark\",\n",
    "                   color_discrete_sequence= px.colors.sequential.Plasma_r)\n",
    "fig.show()"
   ]
  },
  {
   "cell_type": "markdown",
   "metadata": {
    "colab_type": "text",
    "id": "xkv0Rnsahl74"
   },
   "source": [
    "Sí desea mas información de gráficos con [plotly](https://plotly.com/python/)"
   ]
  },
  {
   "cell_type": "markdown",
   "metadata": {
    "colab_type": "text",
    "id": "i-NTEvWy10za"
   },
   "source": [
    "\n",
    "Vamos a ejecutar instrucciones del software [R](https://www.r-project.org/) a traves del paquete [rpy2](https://rpy2.readthedocs.io/en/latest/overview.html) en Python.\n",
    " Iniciaremos importando el paquete en python.\n",
    "\n",
    " El codigo completo está en [R](https://github.com/Cruzalirio/Ucentral/blob/master/CodigosR/IntroduccionMultivariado.R)"
   ]
  },
  {
   "cell_type": "code",
   "execution_count": null,
   "metadata": {
    "ExecuteTime": {
     "end_time": "2020-01-27T19:31:40.736078Z",
     "start_time": "2020-01-27T19:31:40.731270Z"
    },
    "colab": {},
    "colab_type": "code",
    "id": "-mXRRYWd10zb"
   },
   "outputs": [],
   "source": [
    "import rpy2\n",
    "%load_ext rpy2.ipython"
   ]
  },
  {
   "cell_type": "code",
   "execution_count": null,
   "metadata": {
    "colab": {
     "base_uri": "https://localhost:8080/",
     "height": 34
    },
    "colab_type": "code",
    "id": "tDOGf9qLjAXv",
    "outputId": "211096f6-b048-4188-a295-58679e411911"
   },
   "outputs": [],
   "source": [
    "%%R\n",
    "Datos=read.csv2(\"/content/Cereal.csv\")\n",
    "\n",
    "str(Datos)\n",
    "\n",
    "\n",
    "cuanti=subset(Datos, select=c(3:10))\n",
    "### Matriz de covarianzas\n",
    "\n",
    "cov(cuanti)\n",
    "\n",
    "\n",
    "cor(cuanti)\n",
    "library(reshape2)\n",
    "library(ggplot2)\n",
    "matriz=cor(cuanti)\n",
    "matriz=melt(matriz)\n",
    "ggplot(matriz,aes(x=Var1, y=Var2, fill=value)) + \n",
    "  geom_tile()\n",
    "\n",
    "plot(cuanti)\n",
    "\n",
    "\n",
    "p=ggplot(Datos, aes(x=Fibra, y=Potasio))\n",
    "p+geom_point()+geom_smooth(method=\"lm\")\n",
    "\n",
    "\n",
    "p=ggplot(Datos, aes(x=Fibra, y=Potasio))\n",
    "p+geom_point()+geom_smooth()\n",
    "\n",
    "\n",
    "v <- ggplot(Datos, aes(Fibra, Potasio))\n",
    "v + geom_density_2d()\n",
    "\n",
    "\n",
    "### COntingencia\n",
    "\n",
    "library(readxl)\n",
    "Hepatitis=read_excel(\"/content/Hepatitis.xls\")\n",
    "\n",
    "\n",
    "cuali=subset(Hepatitis, select=-c(2,15:19))\n",
    "\n",
    "str(cuali)\n",
    "table(cuali$Sexo, cuali$Esteroides)\n",
    "\n",
    "table(cuali$Sexo, cuali$Esteroides, cuali$Histologia)\n",
    "\n",
    "\n",
    "ggplot(Hepatitis, aes(x=Sexo, fill=Esteroides))+geom_bar()\n",
    "\n",
    "ggplot(Hepatitis, aes(x=Sexo, y=Albumina))+geom_boxplot()+facet_grid(.~Histologia)\n",
    "ggplot(Hepatitis, aes(x=Albumina, fill=Sexo, alpha=0.5))+geom_density()+facet_grid(.~Histologia)\n"
   ]
  }
 ],
 "metadata": {
  "colab": {
   "collapsed_sections": [],
   "name": "1.IntroduccionMultivariado.ipynb",
   "provenance": [],
   "toc_visible": true
  },
  "kernelspec": {
   "display_name": "Python 3",
   "language": "python",
   "name": "python3"
  },
  "language_info": {
   "codemirror_mode": {
    "name": "ipython",
    "version": 3
   },
   "file_extension": ".py",
   "mimetype": "text/x-python",
   "name": "python",
   "nbconvert_exporter": "python",
   "pygments_lexer": "ipython3",
   "version": "3.7.6"
  },
  "latex_envs": {
   "LaTeX_envs_menu_present": true,
   "autoclose": true,
   "autocomplete": true,
   "bibliofile": "biblio.bib",
   "cite_by": "apalike",
   "current_citInitial": 1,
   "eqLabelWithNumbers": true,
   "eqNumInitial": 1,
   "hotkeys": {
    "equation": "Ctrl-E",
    "itemize": "Ctrl-I"
   },
   "labels_anchors": false,
   "latex_user_defs": false,
   "report_style_numbering": false,
   "user_envs_cfg": true
  },
  "toc": {
   "base_numbering": 1,
   "nav_menu": {},
   "number_sections": false,
   "sideBar": true,
   "skip_h1_title": false,
   "title_cell": "Table of Contents",
   "title_sidebar": "Contents",
   "toc_cell": false,
   "toc_position": {},
   "toc_section_display": true,
   "toc_window_display": false
  }
 },
 "nbformat": 4,
 "nbformat_minor": 1
}
