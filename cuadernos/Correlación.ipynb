{
 "cells": [
  {
   "cell_type": "markdown",
   "id": "consistent-conditioning",
   "metadata": {},
   "source": [
    "## Una charla corta acerca de correlación\n",
    "\n",
    "Hablar de correlación nos lleva inmediatamente a pensar en las relaciones de dependencia de las variables. Lastimosamente, la literatura y algunas interpretaciones laxas, o más bien atrevidas, en el momento de descifrar estadísticos como el coeficiente de correlación de Pearson, nos ha llevado ha pensar erroneamente que la dependencia es correlación. Quizás por mucho tiempo fue la única medida que se tenía en cuenta al momento de hablar de dependencia entre dos variables, sin embargo, el siguiente ejemplo es lo bastante ilustrativo para ver que estas dos nociones son más separadas de lo que creemos. Por ejemplo, dos variables con correlación 0 que son dependientes:"
   ]
  },
  {
   "cell_type": "markdown",
   "id": "considered-wagner",
   "metadata": {},
   "source": [
    "> Dos variables discretas $X$, con posibles valores $(-1,0,1)$, y $Y$, con posibles valores $(0,1)$ se distribuyen de acuerdo a la siguiente  tabla:\n",
    "\n",
    "\n",
    " |Y\\X|-1|0|1|\n",
    " |:---:|:---:|:---:|:---:|\n",
    " |**0**|0|1/3|0|\n",
    " |**1**|1/3|0|1/3|\n",
    "\n",
    "Es claro que las variables no son dependientes, pues:\n",
    "$$\\frac{1}{3}=P(X=1,Y=1)\\neq P(X=1)\\cdot P(Y=1)=\\frac{2}{9}.$$\n",
    "Sin embargo, su covarianza es 0,\n",
    "$$cov(X,Y)=E(XY)-E(X)E(Y)$$\n",
    "$$E(XY)=(0\\times 0 +0\\times \\frac{1}{3}+0\\times 0-1\\times \\frac{1}{3}+0\\times 0 +1\\times \\frac{1}{3})$$\n",
    "$$E(X)=0$$\n",
    "$$E(Y)=\\frac{2}{3}$$\n",
    "Luego, $cov(X,Y)=0-0\\times\\frac{2}{3}$."
   ]
  },
  {
   "cell_type": "markdown",
   "id": "younger-chuck",
   "metadata": {},
   "source": [
    "## ¿Qué es correlación?\n",
    "\n",
    "La correlación es un análisis bivariable que mide la asociación entre dos variables y la dirección de la relación. En cuanto a la fuerza de la relación, el valor del coeficiente de correlación varía entre -1 y 1. Incluso decimos que un valor de ± 1 indica un grado perfecto de asociación entre las dos variables. A medida que el valor del coeficiente de correlación se acerque a 0, la relación entre las dos variables será más débil. La dirección de la relación está indicada por el signo del coeficiente; un signo + indica una relación positiva y un signo - indica una relación negativa."
   ]
  },
  {
   "cell_type": "markdown",
   "id": "technological-roman",
   "metadata": {},
   "source": [
    "### ... y Pearson...\n",
    "\n",
    "El coeficiente de correlación de Pearson es una medida de asociaón lineal entre las variables, pero es una entre muchísimas medidas de dependencia que se pueden definir. Vale la pena ahondar entre otras teoría que permitan describir la estructura de dependencia subyacente en un grupo de variables aleatorias, una prolifica es la teoría de cópulas, que no se revisará en este curso. \n",
    "\n",
    "Volviendo al tema principal, el coeficiente de correlación de Pearson es una medida de asociación lineal entre dos variables, denotada por $r$. Vale la pena aclarar que tendrá sentido si las variables a estudiar satisfacen los siguientes supuestos:\n",
    "\n",
    "1. Ambas variables deben tener una distribución norma. Una forma sencilla de verificar esto es determinar la normalidad de cada variable por separado usando la prueba de Shapiro-Wilk.\n",
    "\n",
    "2. No debe haber valores atípicos significativos. El coeficiente de correlación de Pearson, $r$ es muy sensible a los valores atípicos, un gráfico simple puede evidenciar como varios atípicos afectan la línea de mejor ajuste y llevarnos a análisis engañosos.\n",
    "\n",
    "<center><img src=\"../images/outliers.jpg\" style=\"width:500px;\"></center>\n",
    "\n",
    "3. Cada variable debe ser continua. Si una o ambas variables son de medición ordinal, entonces se podría realizar una correlación de Spearman.\n",
    "\n",
    "4. Las dos variables deben tener una relación lineal. Los diagramas de dispersiónson útiles para verificarlo, si los datos que tiene no están relacionados linealmente, es posible que deba ejecutar una transformación sobre los datos o utilizar una medida de asociación no paramétrica.\n",
    "\n",
    "5. Homocedasticidad: El término de error (es decir, el \"ruido\" o la alteración aleatoria en la relación entre las variables independientes y la variable dependiente) debe ser uniforme. Un diagrama de dispersión facilita la comprobación de esto. \n",
    "\n",
    "<center><img src=\"../images/homo.jpg\" style=\"width:500px;\"></center>"
   ]
  },
  {
   "cell_type": "markdown",
   "id": "looking-phone",
   "metadata": {},
   "source": [
    "## Ahora calculado en Python\n",
    "\n",
    "No usamos más que pandas para calcularlo pero hay varias librerías que ayudan a visualizarlo."
   ]
  },
  {
   "cell_type": "code",
   "execution_count": null,
   "id": "dried-result",
   "metadata": {},
   "outputs": [],
   "source": [
    "import numpy as np\n",
    "import pandas as pd\n",
    "import matplotlib.pyplot as plt\n",
    "import seaborn as sns"
   ]
  },
  {
   "cell_type": "code",
   "execution_count": null,
   "id": "bizarre-sense",
   "metadata": {},
   "outputs": [],
   "source": [
    "penguins = sns.load_dataset(\"penguins\")\n",
    "penguins"
   ]
  },
  {
   "cell_type": "code",
   "execution_count": null,
   "id": "fatal-heating",
   "metadata": {},
   "outputs": [],
   "source": [
    "f, axs = plt.subplots(1, 2, figsize=(8, 4), gridspec_kw=dict(width_ratios=[4, 3]))\n",
    "sns.scatterplot(data=penguins, x=\"flipper_length_mm\", y=\"bill_length_mm\", hue=\"species\", ax=axs[0])\n",
    "sns.histplot(data=penguins, x=\"species\", hue=\"species\", shrink=.8, alpha=.8, legend=False, ax=axs[1])\n",
    "f.tight_layout()"
   ]
  },
  {
   "cell_type": "code",
   "execution_count": null,
   "id": "pediatric-characterization",
   "metadata": {},
   "outputs": [],
   "source": [
    "type(penguins)"
   ]
  },
  {
   "cell_type": "code",
   "execution_count": null,
   "id": "received-newton",
   "metadata": {},
   "outputs": [],
   "source": [
    "penguins.corr()"
   ]
  },
  {
   "cell_type": "code",
   "execution_count": null,
   "id": "literary-fashion",
   "metadata": {},
   "outputs": [],
   "source": [
    "pencorr=penguins.corr(method='pearson')\n",
    "pencorr"
   ]
  },
  {
   "cell_type": "code",
   "execution_count": null,
   "id": "earned-hurricane",
   "metadata": {},
   "outputs": [],
   "source": [
    "sns.heatmap(pencorr, \n",
    "            xticklabels=pencorr.columns,\n",
    "            yticklabels=pencorr.columns,\n",
    "            cmap='RdBu_r',\n",
    "            annot=True,\n",
    "            linewidth=0.5)"
   ]
  },
  {
   "cell_type": "markdown",
   "id": "supreme-yorkshire",
   "metadata": {},
   "source": [
    "Un coeficiente cercano a 1 significa que existe una correlación positiva muy fuerte entre las dos variables. En nuestro caso, la masa y la longitud de la aleta muestran una correlación bastante alta.\n",
    "\n"
   ]
  },
  {
   "cell_type": "markdown",
   "id": "aerial-tuner",
   "metadata": {},
   "source": [
    "## Correlación de Kendal \n",
    "\n",
    "También conocido como \"coeficiente $\\tau$ de Kendall\", evalúa las asociaciones estadísticas en función de los rangos de los datos. La correlación $\\tau$ de Kendall (no paramétrica) es una alternativa a la correlación de Pearson (paramétrica) cuando los datos con los que está trabajando fallaron en uno o más supuestos. \n",
    "\n",
    "\n",
    "La correlación de Kendall se usa para probar las similitudes en el orden de los datos cuando se clasifican por cantidades. Otros tipos de coeficientes de correlación usan las observaciones como base de la correlación, el coeficiente de correlación de Kendall usa pares de observaciones y determina la fuerza de la asociación basada en el patrón de concordancia y discordancia entre los pares.\n",
    "\n",
    "\n",
    "**Concordante:**  Un par de observaciones se considera concordante si $(x_2 - x_1)$ y $(y_2 - y_1)$ tienen el mismo signo.\n",
    "\n",
    "**Discordante:** Un par de observaciones se considera concordante si $(x_2 - x_1)$ y $(y_2 - y_1)$ tienen signos opuestos.\n",
    "\n",
    "El coeficiente de correlación $\\tau$ de Kendall suele tener valores más pequeños que la correlación $\\rho$ de Spearman. Los cálculos se basan en pares concordantes y discordantes. Insensible al error. Los valores de p son más precisos con tamaños de muestra más pequeños.\n",
    "\n",
    "### Supuestos\n",
    "Debe verificar que sus datos satisfagan las suposiciones antes de sumergirse en el uso de la correlación de rango de Kendall. Esto asegurará que tenga resultados válidos que realmente pueda usar y no solo números en su monitor.\n",
    "\n",
    "1. **Las variables se miden en una escala ordinal o continua.** Las escalas ordinales son medidas de conceptos no numéricos como satisfacción, felicidad, malestar. p.ej. Muy satisfecho, algo satisfecho, neutral, algo insatisfecho, muy insatisfecho. Las escalas continuas son esencialmente variables de intervalo (es decir, temperatura, por ejemplo, 30 grados) o de relación (por ejemplo, peso, altura).\n",
    "\n",
    "2. Es deseable si sus datos parecen seguir una relación monótona. En términos simples, a medida que aumenta el valor de una variable, también lo hace la otra variable y a medida que aumenta el valor de una variable, la otra variable disminuye. Este es el motivo: la correlación de rango de Kendall mide la fuerza y la dirección de la asociación que existe entre dos variables. Sabiendo esto, tiene sentido probar la presencia de una relación monótona. No obstante, es un supuesto deseable, no obligatorio."
   ]
  },
  {
   "cell_type": "markdown",
   "id": "adopted-exclusion",
   "metadata": {},
   "source": [
    "## Ahora en Python\n",
    "\n",
    "Usaremos la misma base para estudiar "
   ]
  },
  {
   "cell_type": "code",
   "execution_count": null,
   "id": "inclusive-agriculture",
   "metadata": {},
   "outputs": [],
   "source": [
    "sns.pairplot(data=penguins, hue=\"species\")\n"
   ]
  },
  {
   "cell_type": "code",
   "execution_count": null,
   "id": "common-yield",
   "metadata": {},
   "outputs": [],
   "source": [
    "pencorr2=penguins.corr(method='kendall')\n",
    "pencorr2"
   ]
  },
  {
   "cell_type": "code",
   "execution_count": null,
   "id": "hazardous-longitude",
   "metadata": {},
   "outputs": [],
   "source": [
    "fig,axs=plt.subplots(1,2,figsize=(20,10))\n",
    "\n",
    "sns.heatmap(ax=axs[0],data=pencorr, \n",
    "            xticklabels=pencorr.columns,\n",
    "            yticklabels=pencorr.columns,\n",
    "            cmap='RdBu_r',\n",
    "            annot=True,\n",
    "            linewidth=0.5)\n",
    "sns.heatmap(ax=axs[1],data=pencorr2, \n",
    "            xticklabels=pencorr.columns,\n",
    "            yticklabels=pencorr.columns,\n",
    "            cmap='RdBu_r',\n",
    "            annot=True,\n",
    "            linewidth=0.5)"
   ]
  },
  {
   "cell_type": "markdown",
   "id": "aggressive-occasion",
   "metadata": {},
   "source": [
    "## Correlación de Spearman \n",
    "\n",
    "También conocido como \"coeficiente $\\rho$ de Spearman\", es un medida no paramétrica de correlación de rango (dependencia estadística entre las clasificaciones de dos variables). Evalúa qué tan bien se puede describir la relación entre dos variables utilizando una función monótona.\n",
    "\n",
    "La correlación de Spearman entre dos variables es igual a la correlación de Pearson entre los valores de rango de esas dos variables; mientras que la correlación de Pearson evalúa las relaciones lineales, la correlación de Spearman evalúa las relaciones monótonas (lineales o no). Si no hay valores de datos repetidos, se produce una correlación de Spearman perfecta de +1 o -1 cuando cada una de las variables es una función monótona perfecta de la otra.\n",
    "\n",
    "Intuitivamente, la correlación de Spearman entre dos variables será alta cuando las observaciones tengan un rango similar (o idéntico para una correlación de 1) (es decir, etiqueta de posición relativa de las observaciones dentro de la variable: 1º, 2º, 3º, etc.) entre las dos variables, y baja cuando las observaciones tienen un rango diferente (o totalmente opuesto para una correlación de -1) entre las dos variables.\n",
    "\n",
    "Es importante reconocer que Spearan trabaja con la posición del dato, por eso establece la monotonia de las variables. El coeficiente de Spearman es apropiado para variables ordinales continuas y discretas. \n",
    "\n",
    "### Interpretación\n",
    "\n",
    "El signo de la correlación de Spearman indica la dirección de asociación entre X (la variable independiente) e Y (la variable dependiente). Si Y tiende a aumentar cuando X aumenta, el coeficiente de correlación de Spearman es positivo. Si Y tiende a disminuir cuando X aumenta, el coeficiente de correlación de Spearman es negativo. Una correlación de Spearman de cero indica que no hay tendencia a que Y aumente o disminuya cuando X aumenta. La correlación de Spearman aumenta en magnitud a medida que X e Y se acercan a ser funciones perfectamente monótonas entre sí. Cuando X e Y están perfectamente relacionados de manera monótona, el coeficiente de correlación de Spearman se convierte en 1.\n",
    "\n",
    "El coeficiente de correlación de Spearman se describe a menudo como \"no paramétrico\". Esto puede tener dos significados. Primero, se obtiene una correlación de Spearman perfecta cuando X e Y están relacionados por cualquier función monótona. Compare esto con la correlación de Pearson, que solo da un valor perfecto cuando X e Y están relacionados por una función lineal. El otro sentido en el que la correlación de Spearman no es paramétrica es que su distribución muestral exacta se puede obtener sin requerir conocimiento (es decir, conocer los parámetros) de la distribución de probabilidad conjunta de X e Y.\n",
    "\n",
    "## Diferencias Kendall Spearman\n",
    "\n",
    "1. En el caso normal, la correlación de Kendall es más robusta y eficiente que la correlación de Spearman. Significa que se prefiere la correlación de Kendall cuando hay muestras pequeñas o algunos valores atípicos.\n",
    "\n",
    "2. La correlación de Kendall tiene una complejidad de cálculo $O(n ^ 2)$ en comparación con $O (n logn)$ de la correlación de Spearman, donde n es el tamaño de la muestra.\n",
    "\n",
    "3. El $\\rho$ de Spearman suele ser más grande que el tau de Kendall.\n",
    "\n",
    "4. La interpretación de la tau de Kendall en términos de las probabilidades de observar los pares concordantes y discordantes es muy directa."
   ]
  },
  {
   "cell_type": "code",
   "execution_count": null,
   "id": "usual-title",
   "metadata": {},
   "outputs": [],
   "source": [
    "pencorr3=penguins.corr(method='spearman')\n",
    "pencorr3"
   ]
  },
  {
   "cell_type": "code",
   "execution_count": null,
   "id": "editorial-estimate",
   "metadata": {},
   "outputs": [],
   "source": [
    "fig,axs=plt.subplots(1,3,figsize=(30,10))\n",
    "\n",
    "sns.heatmap(ax=axs[0],data=pencorr, \n",
    "            xticklabels=pencorr.columns,\n",
    "            yticklabels=pencorr.columns,\n",
    "            cmap='RdBu_r',\n",
    "            annot=True,\n",
    "            linewidth=0.5)\n",
    "sns.heatmap(ax=axs[1],data=pencorr2, \n",
    "            xticklabels=pencorr.columns,\n",
    "            yticklabels=pencorr.columns,\n",
    "            cmap='RdBu_r',\n",
    "            annot=True,\n",
    "            linewidth=0.5)\n",
    "sns.heatmap(ax=axs[2],data=pencorr3, \n",
    "            xticklabels=pencorr.columns,\n",
    "            yticklabels=pencorr.columns,\n",
    "            cmap='RdBu_r',\n",
    "            annot=True,\n",
    "            linewidth=0.5)"
   ]
  }
 ],
 "metadata": {
  "kernelspec": {
   "display_name": "Python 3",
   "language": "python",
   "name": "python3"
  },
  "language_info": {
   "codemirror_mode": {
    "name": "ipython",
    "version": 3
   },
   "file_extension": ".py",
   "mimetype": "text/x-python",
   "name": "python",
   "nbconvert_exporter": "python",
   "pygments_lexer": "ipython3",
   "version": "3.8.5"
  }
 },
 "nbformat": 4,
 "nbformat_minor": 5
}
