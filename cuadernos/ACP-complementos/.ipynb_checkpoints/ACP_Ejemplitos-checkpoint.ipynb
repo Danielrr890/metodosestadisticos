{
 "cells": [
  {
   "cell_type": "markdown",
   "metadata": {
    "colab_type": "text",
    "id": "kiGshKKAiCn5"
   },
   "source": [
    "# Análisis de componentes principales - ejemplos aclaradores\n",
    "\n",
    "**EJEMPLO 1** \n",
    "\n",
    "Iniciaremos con un ejercicio sencillo para una base de dos variables. Simularemos datos:\n"
   ]
  },
  {
   "cell_type": "code",
   "execution_count": 0,
   "metadata": {
    "colab": {},
    "colab_type": "code",
    "id": "k1wFshrmh0_f"
   },
   "outputs": [],
   "source": [
    "import numpy as np\n",
    "import pandas as pd\n",
    "from sklearn.decomposition import PCA\n",
    "from sklearn.preprocessing import StandardScaler\n"
   ]
  },
  {
   "cell_type": "code",
   "execution_count": 0,
   "metadata": {
    "colab": {},
    "colab_type": "code",
    "id": "aGc90luSieC9"
   },
   "outputs": [],
   "source": [
    "x=100*np.random.random_sample(50)"
   ]
  },
  {
   "cell_type": "code",
   "execution_count": 0,
   "metadata": {
    "colab": {},
    "colab_type": "code",
    "id": "vLrPNVXSizJ2"
   },
   "outputs": [],
   "source": [
    "y=-2*x+200 +30*np.random.random_sample(50)"
   ]
  },
  {
   "cell_type": "code",
   "execution_count": 0,
   "metadata": {
    "colab": {},
    "colab_type": "code",
    "id": "wWCI2uvOjB_v"
   },
   "outputs": [],
   "source": [
    "import matplotlib.pyplot as plt"
   ]
  },
  {
   "cell_type": "code",
   "execution_count": 0,
   "metadata": {
    "colab": {
     "base_uri": "https://localhost:8080/",
     "height": 295
    },
    "colab_type": "code",
    "id": "eoF5wRjYjKS9",
    "outputId": "534671e0-2a0f-4b4c-c846-afa8f9b94c5b"
   },
   "outputs": [
    {
     "data": {
      "image/png": "[encoded data removed]",
      "text/plain": [
       "<Figure size 432x288 with 1 Axes>"
      ]
     },
     "metadata": {
      "tags": []
     },
     "output_type": "display_data"
    }
   ],
   "source": [
    "plt.scatter(x, y, s=10, c='red', alpha=0.5)\n",
    "plt.title('Ejercicio 1')\n",
    "plt.xlabel('x')\n",
    "plt.ylabel('y')\n",
    "plt.show()\n"
   ]
  },
  {
   "cell_type": "code",
   "execution_count": 0,
   "metadata": {
    "colab": {
     "base_uri": "https://localhost:8080/",
     "height": 295
    },
    "colab_type": "code",
    "id": "LRAKFj-cjPWl",
    "outputId": "6387b117-dcab-49d9-ebcb-5622f2dc8c5f"
   },
   "outputs": [
    {
     "data": {
      "text/html": [
       "<div>\n",
       "<style scoped>\n",
       "    .dataframe tbody tr th:only-of-type {\n",
       "        vertical-align: middle;\n",
       "    }\n",
       "\n",
       "    .dataframe tbody tr th {\n",
       "        vertical-align: top;\n",
       "    }\n",
       "\n",
       "    .dataframe thead th {\n",
       "        text-align: right;\n",
       "    }\n",
       "</style>\n",
       "<table border=\"1\" class=\"dataframe\">\n",
       "  <thead>\n",
       "    <tr style=\"text-align: right;\">\n",
       "      <th></th>\n",
       "      <th>x</th>\n",
       "      <th>y</th>\n",
       "    </tr>\n",
       "  </thead>\n",
       "  <tbody>\n",
       "    <tr>\n",
       "      <th>count</th>\n",
       "      <td>50.000000</td>\n",
       "      <td>50.000000</td>\n",
       "    </tr>\n",
       "    <tr>\n",
       "      <th>mean</th>\n",
       "      <td>56.665272</td>\n",
       "      <td>101.396629</td>\n",
       "    </tr>\n",
       "    <tr>\n",
       "      <th>std</th>\n",
       "      <td>29.146435</td>\n",
       "      <td>58.880530</td>\n",
       "    </tr>\n",
       "    <tr>\n",
       "      <th>min</th>\n",
       "      <td>0.552178</td>\n",
       "      <td>3.512724</td>\n",
       "    </tr>\n",
       "    <tr>\n",
       "      <th>25%</th>\n",
       "      <td>31.563637</td>\n",
       "      <td>60.665593</td>\n",
       "    </tr>\n",
       "    <tr>\n",
       "      <th>50%</th>\n",
       "      <td>63.113020</td>\n",
       "      <td>92.893595</td>\n",
       "    </tr>\n",
       "    <tr>\n",
       "      <th>75%</th>\n",
       "      <td>78.645843</td>\n",
       "      <td>148.865008</td>\n",
       "    </tr>\n",
       "    <tr>\n",
       "      <th>max</th>\n",
       "      <td>99.644317</td>\n",
       "      <td>216.369891</td>\n",
       "    </tr>\n",
       "  </tbody>\n",
       "</table>\n",
       "</div>"
      ],
      "text/plain": [
       "               x           y\n",
       "count  50.000000   50.000000\n",
       "mean   56.665272  101.396629\n",
       "std    29.146435   58.880530\n",
       "min     0.552178    3.512724\n",
       "25%    31.563637   60.665593\n",
       "50%    63.113020   92.893595\n",
       "75%    78.645843  148.865008\n",
       "max    99.644317  216.369891"
      ]
     },
     "execution_count": 29,
     "metadata": {
      "tags": []
     },
     "output_type": "execute_result"
    }
   ],
   "source": [
    "DF=pd.DataFrame(np.transpose(np.array([x,y])),columns=['x','y'])\n",
    "DF.describe()"
   ]
  },
  {
   "cell_type": "code",
   "execution_count": 0,
   "metadata": {
    "colab": {
     "base_uri": "https://localhost:8080/",
     "height": 86
    },
    "colab_type": "code",
    "id": "SfLom_p3kRNJ",
    "outputId": "d1483e9d-8ca1-42a2-ea05-286acf3707b6"
   },
   "outputs": [
    {
     "data": {
      "text/plain": [
       "[3.1086244689504386e-17,\n",
       " 1.021405182655144e-16,\n",
       " 0.9999999999999999,\n",
       " 0.9999999999999999]"
      ]
     },
     "execution_count": 30,
     "metadata": {
      "tags": []
     },
     "output_type": "execute_result"
    }
   ],
   "source": [
    "scaler = StandardScaler()\n",
    "DFT = scaler.fit_transform(DF)\n",
    "[DFT[:,0].mean(),DFT[:,1].mean(),DFT[:,0].std(),DFT[:,1].std()]"
   ]
  },
  {
   "cell_type": "code",
   "execution_count": 0,
   "metadata": {
    "colab": {
     "base_uri": "https://localhost:8080/",
     "height": 295
    },
    "colab_type": "code",
    "id": "MNhjVhwKkass",
    "outputId": "a6822e6f-397b-4b16-d5de-233c6392aa9a"
   },
   "outputs": [
    {
     "data": {
      "text/html": [
       "<div>\n",
       "<style scoped>\n",
       "    .dataframe tbody tr th:only-of-type {\n",
       "        vertical-align: middle;\n",
       "    }\n",
       "\n",
       "    .dataframe tbody tr th {\n",
       "        vertical-align: top;\n",
       "    }\n",
       "\n",
       "    .dataframe thead th {\n",
       "        text-align: right;\n",
       "    }\n",
       "</style>\n",
       "<table border=\"1\" class=\"dataframe\">\n",
       "  <thead>\n",
       "    <tr style=\"text-align: right;\">\n",
       "      <th></th>\n",
       "      <th>PC1</th>\n",
       "      <th>PC2</th>\n",
       "    </tr>\n",
       "  </thead>\n",
       "  <tbody>\n",
       "    <tr>\n",
       "      <th>count</th>\n",
       "      <td>5.000000e+01</td>\n",
       "      <td>5.000000e+01</td>\n",
       "    </tr>\n",
       "    <tr>\n",
       "      <th>mean</th>\n",
       "      <td>-4.440892e-17</td>\n",
       "      <td>-2.775558e-19</td>\n",
       "    </tr>\n",
       "    <tr>\n",
       "      <th>std</th>\n",
       "      <td>1.423872e+00</td>\n",
       "      <td>1.157748e-01</td>\n",
       "    </tr>\n",
       "    <tr>\n",
       "      <th>min</th>\n",
       "      <td>-2.240718e+00</td>\n",
       "      <td>-1.768660e-01</td>\n",
       "    </tr>\n",
       "    <tr>\n",
       "      <th>25%</th>\n",
       "      <td>-1.029009e+00</td>\n",
       "      <td>-1.108870e-01</td>\n",
       "    </tr>\n",
       "    <tr>\n",
       "      <th>50%</th>\n",
       "      <td>-3.179390e-01</td>\n",
       "      <td>2.870494e-03</td>\n",
       "    </tr>\n",
       "    <tr>\n",
       "      <th>75%</th>\n",
       "      <td>1.160949e+00</td>\n",
       "      <td>9.506798e-02</td>\n",
       "    </tr>\n",
       "    <tr>\n",
       "      <th>max</th>\n",
       "      <td>2.769904e+00</td>\n",
       "      <td>1.876763e-01</td>\n",
       "    </tr>\n",
       "  </tbody>\n",
       "</table>\n",
       "</div>"
      ],
      "text/plain": [
       "                PC1           PC2\n",
       "count  5.000000e+01  5.000000e+01\n",
       "mean  -4.440892e-17 -2.775558e-19\n",
       "std    1.423872e+00  1.157748e-01\n",
       "min   -2.240718e+00 -1.768660e-01\n",
       "25%   -1.029009e+00 -1.108870e-01\n",
       "50%   -3.179390e-01  2.870494e-03\n",
       "75%    1.160949e+00  9.506798e-02\n",
       "max    2.769904e+00  1.876763e-01"
      ]
     },
     "execution_count": 37,
     "metadata": {
      "tags": []
     },
     "output_type": "execute_result"
    }
   ],
   "source": [
    "pca = PCA(n_components=2)\n",
    "principal_components = pca.fit_transform(DFT)\n",
    "DFPC = pd.DataFrame(data = principal_components, columns = ['PC1', 'PC2'])\n",
    "DFPC.describe()"
   ]
  },
  {
   "cell_type": "code",
   "execution_count": 0,
   "metadata": {
    "colab": {
     "base_uri": "https://localhost:8080/",
     "height": 34
    },
    "colab_type": "code",
    "id": "n-IffBWew1L0",
    "outputId": "05635db2-4237-44a9-aad7-96fb36cace31"
   },
   "outputs": [
    {
     "data": {
      "text/plain": [
       "array([99.3,  0.7])"
      ]
     },
     "execution_count": 38,
     "metadata": {
      "tags": []
     },
     "output_type": "execute_result"
    }
   ],
   "source": [
    "per_var = np.round(pca.explained_variance_ratio_ * 100, decimals=1)\n",
    "per_var"
   ]
  },
  {
   "cell_type": "code",
   "execution_count": 0,
   "metadata": {
    "colab": {
     "base_uri": "https://localhost:8080/",
     "height": 51
    },
    "colab_type": "code",
    "id": "D90zYQFSxESl",
    "outputId": "59ef28ff-79d4-4871-e9ba-d74f8498e77f"
   },
   "outputs": [
    {
     "data": {
      "text/plain": [
       "array([[ 1.02040816, -1.00700436],\n",
       "       [-1.00700436,  1.02040816]])"
      ]
     },
     "execution_count": 39,
     "metadata": {
      "tags": []
     },
     "output_type": "execute_result"
    }
   ],
   "source": [
    "COV=np.cov(np.transpose(DFT))\n",
    "COV"
   ]
  },
  {
   "cell_type": "code",
   "execution_count": 0,
   "metadata": {
    "colab": {
     "base_uri": "https://localhost:8080/",
     "height": 51
    },
    "colab_type": "code",
    "id": "Rz1CMmtlxsVe",
    "outputId": "675de7fa-e522-46b1-ec2d-f176de49e2da"
   },
   "outputs": [
    {
     "data": {
      "text/plain": [
       "(array([0.0134038 , 2.02741253]), array([[-0.70710678,  0.70710678],\n",
       "        [-0.70710678, -0.70710678]]))"
      ]
     },
     "execution_count": 40,
     "metadata": {
      "tags": []
     },
     "output_type": "execute_result"
    }
   ],
   "source": [
    "np.linalg.eig(COV)"
   ]
  },
  {
   "cell_type": "code",
   "execution_count": 0,
   "metadata": {
    "colab": {},
    "colab_type": "code",
    "id": "GeD-GtNPzOeK"
   },
   "outputs": [],
   "source": [
    "def draw_vector(v0, v1, ax=None):\n",
    "    ax = ax or plt.gca()\n",
    "    arrowprops=dict(arrowstyle='->',\n",
    "                    linewidth=2,\n",
    "                    shrinkA=0, shrinkB=0)\n",
    "    ax.annotate('', v1, v0, arrowprops=arrowprops)"
   ]
  },
  {
   "cell_type": "code",
   "execution_count": 0,
   "metadata": {
    "colab": {
     "base_uri": "https://localhost:8080/",
     "height": 334
    },
    "colab_type": "code",
    "id": "It04dx4_zfTx",
    "outputId": "73463d64-48cd-4ed7-ae4b-7e272164a919"
   },
   "outputs": [
    {
     "name": "stdout",
     "output_type": "stream",
     "text": [
      "[-0.70710678  0.70710678]\n",
      "2.0274125257627853\n",
      "[0.70710678 0.70710678]\n",
      "0.013403800767826162\n"
     ]
    },
    {
     "data": {
      "image/png": "[encoded data removed]",
      "text/plain": [
       "<Figure size 432x288 with 1 Axes>"
      ]
     },
     "metadata": {
      "tags": []
     },
     "output_type": "display_data"
    }
   ],
   "source": [
    "plt.scatter(DFT[:,0],DFT[:,1], alpha=0.5)\n",
    "L2=[2,0.3]\n",
    "i=0\n",
    "for length, vector in zip(pca.explained_variance_, pca.components_):\n",
    "  print(vector)\n",
    "  print(length)\n",
    "  v = vector*L2[i]\n",
    "  i=+1\n",
    "  draw_vector(pca.mean_, pca.mean_ + v)\n",
    "plt.axis('equal')\n",
    "plt.show()"
   ]
  },
  {
   "cell_type": "code",
   "execution_count": 0,
   "metadata": {
    "colab": {
     "base_uri": "https://localhost:8080/",
     "height": 334
    },
    "colab_type": "code",
    "id": "V1KhZunCYg9v",
    "outputId": "d3ac8342-7215-40a0-f0e0-e4f2e0ba296d"
   },
   "outputs": [
    {
     "data": {
      "text/plain": [
       "(-2.501106078678592,\n",
       " 3.030292248510219,\n",
       " -0.2102697173960261,\n",
       " 0.22108006172918448)"
      ]
     },
     "execution_count": 53,
     "metadata": {
      "tags": []
     },
     "output_type": "execute_result"
    },
    {
     "data": {
      "image/png": "[encoded data removed]",
      "text/plain": [
       "<Figure size 432x288 with 1 Axes>"
      ]
     },
     "metadata": {
      "tags": []
     },
     "output_type": "display_data"
    }
   ],
   "source": [
    "DFPC.values\n",
    "plt.scatter(DFPC.values[:,0],DFPC.values[:,1], alpha=0.5)\n",
    "plt.axis(\"equal\")"
   ]
  },
  {
   "cell_type": "markdown",
   "metadata": {
    "colab_type": "text",
    "id": "J0g2YbLR46Lt"
   },
   "source": [
    "**EJEMPLO 2** \n",
    "\n",
    "Volvamos con IRIS"
   ]
  },
  {
   "cell_type": "code",
   "execution_count": 0,
   "metadata": {
    "colab": {
     "base_uri": "https://localhost:8080/",
     "height": 291
    },
    "colab_type": "code",
    "id": "ChqP5FFizj-J",
    "outputId": "47da4907-a633-4661-e569-16cfb10ba4ff"
   },
   "outputs": [
    {
     "data": {
      "image/png": "[encoded data removed]",
      "text/plain": [
       "<Figure size 432x288 with 1 Axes>"
      ]
     },
     "metadata": {
      "tags": []
     },
     "output_type": "display_data"
    }
   ],
   "source": [
    "from sklearn import datasets\n",
    "\n",
    "iris = datasets.load_iris()\n",
    "X = iris.data\n",
    "y = iris.target\n",
    "#In general a good idea is to scale the data\n",
    "scaler = StandardScaler()\n",
    "scaler.fit(X)\n",
    "X=scaler.transform(X)    \n",
    "\n",
    "pca = PCA()\n",
    "x_new = pca.fit_transform(X)\n",
    "columnasiris=[\"sepal length\",\t\"sepal width\",\t\"petal length\",\t\"petal width\"]\n",
    "def biplot(score,coeff,labels=None):\n",
    "    xs = score[:,0]\n",
    "    ys = score[:,1]\n",
    "    n = coeff.shape[0]\n",
    "    scalex = 1.0/(xs.max() - xs.min())\n",
    "    scaley = 1.0/(ys.max() - ys.min())\n",
    "    plt.scatter(xs * scalex,ys * scaley, c = y)\n",
    "    for i in range(n):\n",
    "        plt.arrow(0, 0, coeff[i,0], coeff[i,1],color = 'r',alpha = 0.5)\n",
    "        if labels is None:\n",
    "            plt.text(coeff[i,0]* 1.15, coeff[i,1] * 1.15, columnasiris[i], color = 'g', ha = 'center', va = 'center')\n",
    "        else:\n",
    "            plt.text(coeff[i,0]* 1.15, coeff[i,1] * 1.15, labels[i], color = 'g', ha = 'center', va = 'center')\n",
    "plt.xlim(-1,1)\n",
    "plt.ylim(-1,1)\n",
    "plt.xlabel(\"PC{}\".format(1))\n",
    "plt.ylabel(\"PC{}\".format(2))\n",
    "plt.grid()\n",
    "\n",
    "#Call the function. Use only the 2 PCs.\n",
    "biplot(x_new[:,0:2],np.transpose(pca.components_[0:2, :]))\n",
    "plt.show()"
   ]
  },
  {
   "cell_type": "code",
   "execution_count": 0,
   "metadata": {
    "colab": {
     "base_uri": "https://localhost:8080/",
     "height": 84
    },
    "colab_type": "code",
    "id": "a5jviLUg4oKT",
    "outputId": "50c2432a-fecf-4fb3-abce-35703b932450"
   },
   "outputs": [
    {
     "data": {
      "text/plain": [
       "array([[ 0.52106591,  0.37741762],\n",
       "       [-0.26934744,  0.92329566],\n",
       "       [ 0.5804131 ,  0.02449161],\n",
       "       [ 0.56485654,  0.06694199]])"
      ]
     },
     "execution_count": 139,
     "metadata": {
      "tags": []
     },
     "output_type": "execute_result"
    }
   ],
   "source": [
    "np.transpose(pca.components_[0:2, :])"
   ]
  }
 ],
 "metadata": {
  "colab": {
   "name": "ACP_Ejemplitos.ipynb",
   "provenance": []
  },
  "kernelspec": {
   "display_name": "Python 3",
   "language": "python",
   "name": "python3"
  },
  "language_info": {
   "codemirror_mode": {
    "name": "ipython",
    "version": 3
   },
   "file_extension": ".py",
   "mimetype": "text/x-python",
   "name": "python",
   "nbconvert_exporter": "python",
   "pygments_lexer": "ipython3",
   "version": "3.7.6"
  },
  "toc": {
   "base_numbering": 1,
   "nav_menu": {},
   "number_sections": false,
   "sideBar": true,
   "skip_h1_title": false,
   "title_cell": "Table of Contents",
   "title_sidebar": "Contents",
   "toc_cell": false,
   "toc_position": {},
   "toc_section_display": true,
   "toc_window_display": false
  }
 },
 "nbformat": 4,
 "nbformat_minor": 1
}
