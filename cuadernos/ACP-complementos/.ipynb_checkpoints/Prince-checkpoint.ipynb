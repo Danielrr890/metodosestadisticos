{
 "cells": [
  {
   "cell_type": "markdown",
   "metadata": {},
   "source": [
    "## Otro paquete: Prince\n",
    "\n",
    "Veremos algunas aplicaciones elementales del paquete prince. \n",
    "\n",
    "Prince es una biblioteca para hacer análisis factorial. Esto incluye una variedad de métodos, incluido el análisis de componentes principales (PCA) y el análisis de correspondencia (CA). El objetivo es proporcionar una implementación eficiente para cada algoritmo junto con una API scikit-learn.\n",
    "\n",
    "\n",
    "## Consideraciones\n",
    "\n",
    "Cada estimador proporcionado por prince amplía TransformerMixin de scikit-learn. Esto significa que cada estimador implementa un a función de ajuste y transformación que los hace utilizables en un proceso de transformación. La función de ajuste es en realidad un alias del método row_principal_components que devuelve los componentes principales de la fila. Sin embargo, también puede acceder a los componentes principales de la columna con column_principal_components.\n",
    "\n",
    "La programación de Prince usa una versión aleatoria de SVD. Esto es mucho más rápido que utilizar el enfoque completo más común. Sin embargo, los resultados pueden tener una pequeña aleatoriedad inherente. Para la mayoría de las aplicaciones, esto no importa y no debería tener que preocuparse por ello. Sin embargo, si desea resultados reproducibles, debe configurar el parámetro random_state.\n",
    "\n",
    "La versión aleatoria de SVD es un método iterativo. Debido a que cada uno de los algoritmos de Prince usa SVD, todos poseen un parámetro n_iter que controla el número de iteraciones utilizadas para calcular el SVD. Por un lado, cuanto mayor sea n_iter, más precisos serán los resultados. Por otro lado, aumentar n_iter aumenta el tiempo de cálculo. En general, el algoritmo converge muy rápidamente, por lo que se recomienda utilizar un n_iter bajo (que es el comportamiento predeterminado).\n",
    "\n",
    "Se supone que debe usar cada método según su situación:\n",
    "\n",
    "* Todas sus variables son numéricas: utilice el análisis de componentes principales (prince.PCA)\n",
    "* Tienes una tabla de contingencia: usa el análisis de correspondencia (prince.CA)\n",
    "*  Tiene más de 2 variables y todas son categóricas: use análisis de correspondencia múltiple (prince.MCA)\n",
    "* Tiene grupos de variables categóricas o numéricas: use análisis de factores múltiples (prince.MFA)\n",
    "* Tiene variables categóricas y numéricas: utilice el análisis factorial de datos mixtos (prince.FAMD)\n"
   ]
  },
  {
   "cell_type": "markdown",
   "metadata": {},
   "source": [
    "## Análisis de componentes principales\n",
    "\n",
    "Todas las variables numéricas"
   ]
  },
  {
   "cell_type": "code",
   "execution_count": 49,
   "metadata": {},
   "outputs": [],
   "source": [
    "import pandas as pd\n",
    "import prince\n",
    "from sklearn import datasets\n",
    "\n",
    "X, y = datasets.load_iris(return_X_y=True)\n",
    "X = pd.DataFrame(data=X, columns=['Sepal length', 'Sepal width', 'Petal length', 'Petal width'])\n",
    "y = pd.Series(y).map({0: 'Setosa', 1: 'Versicolor', 2: 'Virginica'})"
   ]
  },
  {
   "cell_type": "code",
   "execution_count": 50,
   "metadata": {},
   "outputs": [
    {
     "data": {
      "text/html": [
       "<div>\n",
       "<style scoped>\n",
       "    .dataframe tbody tr th:only-of-type {\n",
       "        vertical-align: middle;\n",
       "    }\n",
       "\n",
       "    .dataframe tbody tr th {\n",
       "        vertical-align: top;\n",
       "    }\n",
       "\n",
       "    .dataframe thead th {\n",
       "        text-align: right;\n",
       "    }\n",
       "</style>\n",
       "<table border=\"1\" class=\"dataframe\">\n",
       "  <thead>\n",
       "    <tr style=\"text-align: right;\">\n",
       "      <th></th>\n",
       "      <th>Sepal length</th>\n",
       "      <th>Sepal width</th>\n",
       "      <th>Petal length</th>\n",
       "      <th>Petal width</th>\n",
       "    </tr>\n",
       "  </thead>\n",
       "  <tbody>\n",
       "    <tr>\n",
       "      <th>0</th>\n",
       "      <td>5.100000</td>\n",
       "      <td>3.500000</td>\n",
       "      <td>1.400000</td>\n",
       "      <td>0.200000</td>\n",
       "    </tr>\n",
       "    <tr>\n",
       "      <th>1</th>\n",
       "      <td>4.900000</td>\n",
       "      <td>3.000000</td>\n",
       "      <td>1.400000</td>\n",
       "      <td>0.200000</td>\n",
       "    </tr>\n",
       "    <tr>\n",
       "      <th>2</th>\n",
       "      <td>4.700000</td>\n",
       "      <td>3.200000</td>\n",
       "      <td>1.300000</td>\n",
       "      <td>0.200000</td>\n",
       "    </tr>\n",
       "    <tr>\n",
       "      <th>3</th>\n",
       "      <td>4.600000</td>\n",
       "      <td>3.100000</td>\n",
       "      <td>1.500000</td>\n",
       "      <td>0.200000</td>\n",
       "    </tr>\n",
       "    <tr>\n",
       "      <th>4</th>\n",
       "      <td>5.000000</td>\n",
       "      <td>3.600000</td>\n",
       "      <td>1.400000</td>\n",
       "      <td>0.200000</td>\n",
       "    </tr>\n",
       "    <tr>\n",
       "      <th>...</th>\n",
       "      <td>...</td>\n",
       "      <td>...</td>\n",
       "      <td>...</td>\n",
       "      <td>...</td>\n",
       "    </tr>\n",
       "    <tr>\n",
       "      <th>145</th>\n",
       "      <td>6.700000</td>\n",
       "      <td>3.000000</td>\n",
       "      <td>5.200000</td>\n",
       "      <td>2.300000</td>\n",
       "    </tr>\n",
       "    <tr>\n",
       "      <th>146</th>\n",
       "      <td>6.300000</td>\n",
       "      <td>2.500000</td>\n",
       "      <td>5.000000</td>\n",
       "      <td>1.900000</td>\n",
       "    </tr>\n",
       "    <tr>\n",
       "      <th>147</th>\n",
       "      <td>6.500000</td>\n",
       "      <td>3.000000</td>\n",
       "      <td>5.200000</td>\n",
       "      <td>2.000000</td>\n",
       "    </tr>\n",
       "    <tr>\n",
       "      <th>148</th>\n",
       "      <td>6.200000</td>\n",
       "      <td>3.400000</td>\n",
       "      <td>5.400000</td>\n",
       "      <td>2.300000</td>\n",
       "    </tr>\n",
       "    <tr>\n",
       "      <th>149</th>\n",
       "      <td>5.900000</td>\n",
       "      <td>3.000000</td>\n",
       "      <td>5.100000</td>\n",
       "      <td>1.800000</td>\n",
       "    </tr>\n",
       "  </tbody>\n",
       "</table>\n",
       "<p>150 rows × 4 columns</p>\n",
       "</div>"
      ],
      "text/plain": [
       "     Sepal length  Sepal width  Petal length  Petal width\n",
       "0        5.100000     3.500000      1.400000     0.200000\n",
       "1        4.900000     3.000000      1.400000     0.200000\n",
       "2        4.700000     3.200000      1.300000     0.200000\n",
       "3        4.600000     3.100000      1.500000     0.200000\n",
       "4        5.000000     3.600000      1.400000     0.200000\n",
       "..            ...          ...           ...          ...\n",
       "145      6.700000     3.000000      5.200000     2.300000\n",
       "146      6.300000     2.500000      5.000000     1.900000\n",
       "147      6.500000     3.000000      5.200000     2.000000\n",
       "148      6.200000     3.400000      5.400000     2.300000\n",
       "149      5.900000     3.000000      5.100000     1.800000\n",
       "\n",
       "[150 rows x 4 columns]"
      ]
     },
     "execution_count": 50,
     "metadata": {},
     "output_type": "execute_result"
    }
   ],
   "source": [
    "X"
   ]
  },
  {
   "cell_type": "code",
   "execution_count": 3,
   "metadata": {},
   "outputs": [],
   "source": [
    "pca = prince.PCA(\n",
    "    n_components=2,\n",
    "     n_iter=3,\n",
    "     rescale_with_mean=True,\n",
    "     rescale_with_std=True,\n",
    "     copy=True,\n",
    "     check_input=True,\n",
    "     engine='auto',\n",
    "     random_state=42\n",
    " )\n",
    "pca = pca.fit(X)\n"
   ]
  },
  {
   "cell_type": "markdown",
   "metadata": {},
   "source": [
    "Los parámetros disponibles son:\n",
    "\n",
    "* n_components: el número de componentes que se calculan. Solo necesita dos si su intención es hacer un gráfico.\n",
    "* n_iter: el número de iteraciones utilizadas para calcular la SVD\n",
    "* rescale_with_mean: si restar la media de cada columna\n",
    "* rescale_with_std: si dividir cada columna por su desviación estándar\n",
    "* copy: si es False, los cálculos se realizarán en el lugar, lo que puede tener posibles efectos secundarios en los datos de entrada\n",
    "* engine: qué motor SVD usar (debe ser uno de ['auto', 'fbpca', 'sklearn'])\n",
    "* random_state: controla la aleatoriedad de los resultados de SVD.\n",
    "\n",
    "Una vez que se ha ajustado el PCA, se puede utilizar para extraer las coordenadas principales de la fila de la siguiente manera:"
   ]
  },
  {
   "cell_type": "code",
   "execution_count": 57,
   "metadata": {},
   "outputs": [
    {
     "data": {
      "text/plain": [
       "0   -2.262215\n",
       "1    2.686284\n",
       "Name: 15, dtype: float64"
      ]
     },
     "execution_count": 57,
     "metadata": {},
     "output_type": "execute_result"
    }
   ],
   "source": [
    "pca.transform(X).iloc[15]"
   ]
  },
  {
   "cell_type": "markdown",
   "metadata": {},
   "source": [
    "Cada columna representa un componente principal, mientras que cada fila representa una fila en el conjunto de datos original. Puede mostrar estas proyecciones con el comando plot_row_coordinates:"
   ]
  },
  {
   "cell_type": "code",
   "execution_count": 58,
   "metadata": {},
   "outputs": [
    {
     "data": {
      "text/plain": [
       "0         Setosa\n",
       "1         Setosa\n",
       "2         Setosa\n",
       "3         Setosa\n",
       "4         Setosa\n",
       "         ...    \n",
       "145    Virginica\n",
       "146    Virginica\n",
       "147    Virginica\n",
       "148    Virginica\n",
       "149    Virginica\n",
       "Length: 150, dtype: object"
      ]
     },
     "execution_count": 58,
     "metadata": {},
     "output_type": "execute_result"
    }
   ],
   "source": [
    "y"
   ]
  },
  {
   "cell_type": "code",
   "execution_count": 59,
   "metadata": {},
   "outputs": [
    {
     "data": {
      "image/png": "[encoded data removed]",
      "text/plain": [
       "<Figure size 432x432 with 1 Axes>"
      ]
     },
     "metadata": {
      "needs_background": "light"
     },
     "output_type": "display_data"
    }
   ],
   "source": [
    "ax = pca.plot_row_coordinates(\n",
    "   X,\n",
    "     ax=None,\n",
    "     figsize=(6, 6),\n",
    "     x_component=0,\n",
    "     y_component=1,\n",
    "     labels=range(150),\n",
    "     color_labels=y,\n",
    "     ellipse_outline=False,\n",
    "     ellipse_fill=True,\n",
    "     show_points=True\n",
    " )"
   ]
  },
  {
   "cell_type": "markdown",
   "metadata": {},
   "source": [
    "Cada componente principal explica parte del subyacente de la distribución. Puede ver cuánto utilizando el acceso a la explained_inertia_ property:"
   ]
  },
  {
   "cell_type": "code",
   "execution_count": 6,
   "metadata": {},
   "outputs": [
    {
     "data": {
      "text/plain": [
       "[0.7296244541329987, 0.22850761786701776]"
      ]
     },
     "execution_count": 6,
     "metadata": {},
     "output_type": "execute_result"
    }
   ],
   "source": [
    "pca.explained_inertia_ "
   ]
  },
  {
   "cell_type": "markdown",
   "metadata": {},
   "source": [
    "La inercia explicada representa el porcentaje de la inercia que aporta cada componente principal. Suma hasta 1 si la propiedad n_components es igual al número de columnas del conjunto de datos original. La inercia explicada se obtiene dividiendo los autovalores obtenidos con la SVD por la inercia total, ambos también accesibles."
   ]
  },
  {
   "cell_type": "code",
   "execution_count": 7,
   "metadata": {},
   "outputs": [
    {
     "data": {
      "text/plain": [
       "[437.7746724797993, 137.1045707202107]"
      ]
     },
     "execution_count": 7,
     "metadata": {},
     "output_type": "execute_result"
    }
   ],
   "source": [
    "pca.eigenvalues_"
   ]
  },
  {
   "cell_type": "code",
   "execution_count": 8,
   "metadata": {},
   "outputs": [
    {
     "data": {
      "text/plain": [
       "600.0000000000001"
      ]
     },
     "execution_count": 8,
     "metadata": {},
     "output_type": "execute_result"
    }
   ],
   "source": [
    "pca.total_inertia_  "
   ]
  },
  {
   "cell_type": "code",
   "execution_count": 9,
   "metadata": {},
   "outputs": [
    {
     "data": {
      "text/plain": [
       "[0.7296244541329987, 0.22850761786701776]"
      ]
     },
     "execution_count": 9,
     "metadata": {},
     "output_type": "execute_result"
    }
   ],
   "source": [
    "pca.explained_inertia_"
   ]
  },
  {
   "cell_type": "markdown",
   "metadata": {},
   "source": [
    "También puede obtener las correlaciones entre las variables originales y los componentes principales."
   ]
  },
  {
   "cell_type": "code",
   "execution_count": 10,
   "metadata": {
    "scrolled": true
   },
   "outputs": [
    {
     "data": {
      "text/html": [
       "<div>\n",
       "<style scoped>\n",
       "    .dataframe tbody tr th:only-of-type {\n",
       "        vertical-align: middle;\n",
       "    }\n",
       "\n",
       "    .dataframe tbody tr th {\n",
       "        vertical-align: top;\n",
       "    }\n",
       "\n",
       "    .dataframe thead th {\n",
       "        text-align: right;\n",
       "    }\n",
       "</style>\n",
       "<table border=\"1\" class=\"dataframe\">\n",
       "  <thead>\n",
       "    <tr style=\"text-align: right;\">\n",
       "      <th></th>\n",
       "      <th>0</th>\n",
       "      <th>1</th>\n",
       "    </tr>\n",
       "  </thead>\n",
       "  <tbody>\n",
       "    <tr>\n",
       "      <th>Petal length</th>\n",
       "      <td>0.991555</td>\n",
       "      <td>0.023415</td>\n",
       "    </tr>\n",
       "    <tr>\n",
       "      <th>Petal width</th>\n",
       "      <td>0.964979</td>\n",
       "      <td>0.064000</td>\n",
       "    </tr>\n",
       "    <tr>\n",
       "      <th>Sepal length</th>\n",
       "      <td>0.890169</td>\n",
       "      <td>0.360830</td>\n",
       "    </tr>\n",
       "    <tr>\n",
       "      <th>Sepal width</th>\n",
       "      <td>-0.460143</td>\n",
       "      <td>0.882716</td>\n",
       "    </tr>\n",
       "  </tbody>\n",
       "</table>\n",
       "</div>"
      ],
      "text/plain": [
       "                     0         1\n",
       "Petal length  0.991555  0.023415\n",
       "Petal width   0.964979  0.064000\n",
       "Sepal length  0.890169  0.360830\n",
       "Sepal width  -0.460143  0.882716"
      ]
     },
     "execution_count": 10,
     "metadata": {},
     "output_type": "execute_result"
    }
   ],
   "source": [
    "pca.column_correlations(X)"
   ]
  },
  {
   "cell_type": "markdown",
   "metadata": {},
   "source": [
    "También es posible saber cuánto contribuye cada observación a cada componente principal. Esto se puede hacer con el comando row_contributions."
   ]
  },
  {
   "cell_type": "code",
   "execution_count": 11,
   "metadata": {},
   "outputs": [
    {
     "data": {
      "text/html": [
       "<div>\n",
       "<style scoped>\n",
       "    .dataframe tbody tr th:only-of-type {\n",
       "        vertical-align: middle;\n",
       "    }\n",
       "\n",
       "    .dataframe tbody tr th {\n",
       "        vertical-align: top;\n",
       "    }\n",
       "\n",
       "    .dataframe thead th {\n",
       "        text-align: right;\n",
       "    }\n",
       "</style>\n",
       "<table border=\"1\" class=\"dataframe\">\n",
       "  <thead>\n",
       "    <tr style=\"text-align: right;\">\n",
       "      <th></th>\n",
       "      <th>0</th>\n",
       "      <th>1</th>\n",
       "    </tr>\n",
       "  </thead>\n",
       "  <tbody>\n",
       "    <tr>\n",
       "      <th>0</th>\n",
       "      <td>0.011716</td>\n",
       "      <td>0.001681</td>\n",
       "    </tr>\n",
       "    <tr>\n",
       "      <th>1</th>\n",
       "      <td>0.009892</td>\n",
       "      <td>0.003315</td>\n",
       "    </tr>\n",
       "    <tr>\n",
       "      <th>2</th>\n",
       "      <td>0.012768</td>\n",
       "      <td>0.000853</td>\n",
       "    </tr>\n",
       "    <tr>\n",
       "      <th>3</th>\n",
       "      <td>0.012077</td>\n",
       "      <td>0.002603</td>\n",
       "    </tr>\n",
       "    <tr>\n",
       "      <th>4</th>\n",
       "      <td>0.013046</td>\n",
       "      <td>0.003052</td>\n",
       "    </tr>\n",
       "    <tr>\n",
       "      <th>...</th>\n",
       "      <td>...</td>\n",
       "      <td>...</td>\n",
       "    </tr>\n",
       "    <tr>\n",
       "      <th>145</th>\n",
       "      <td>0.007992</td>\n",
       "      <td>0.001092</td>\n",
       "    </tr>\n",
       "    <tr>\n",
       "      <th>146</th>\n",
       "      <td>0.005592</td>\n",
       "      <td>0.005864</td>\n",
       "    </tr>\n",
       "    <tr>\n",
       "      <th>147</th>\n",
       "      <td>0.005286</td>\n",
       "      <td>0.000528</td>\n",
       "    </tr>\n",
       "    <tr>\n",
       "      <th>148</th>\n",
       "      <td>0.004305</td>\n",
       "      <td>0.007459</td>\n",
       "    </tr>\n",
       "    <tr>\n",
       "      <th>149</th>\n",
       "      <td>0.002108</td>\n",
       "      <td>0.000004</td>\n",
       "    </tr>\n",
       "  </tbody>\n",
       "</table>\n",
       "<p>150 rows × 2 columns</p>\n",
       "</div>"
      ],
      "text/plain": [
       "            0         1\n",
       "0    0.011716  0.001681\n",
       "1    0.009892  0.003315\n",
       "2    0.012768  0.000853\n",
       "3    0.012077  0.002603\n",
       "4    0.013046  0.003052\n",
       "..        ...       ...\n",
       "145  0.007992  0.001092\n",
       "146  0.005592  0.005864\n",
       "147  0.005286  0.000528\n",
       "148  0.004305  0.007459\n",
       "149  0.002108  0.000004\n",
       "\n",
       "[150 rows x 2 columns]"
      ]
     },
     "execution_count": 11,
     "metadata": {},
     "output_type": "execute_result"
    }
   ],
   "source": [
    "pca.row_contributions(X)"
   ]
  },
  {
   "cell_type": "markdown",
   "metadata": {},
   "source": [
    "También puede transformar las proyecciones de filas a su espacio original utilizando la función inverse_transform."
   ]
  },
  {
   "cell_type": "code",
   "execution_count": 12,
   "metadata": {},
   "outputs": [
    {
     "data": {
      "text/html": [
       "<div>\n",
       "<style scoped>\n",
       "    .dataframe tbody tr th:only-of-type {\n",
       "        vertical-align: middle;\n",
       "    }\n",
       "\n",
       "    .dataframe tbody tr th {\n",
       "        vertical-align: top;\n",
       "    }\n",
       "\n",
       "    .dataframe thead th {\n",
       "        text-align: right;\n",
       "    }\n",
       "</style>\n",
       "<table border=\"1\" class=\"dataframe\">\n",
       "  <thead>\n",
       "    <tr style=\"text-align: right;\">\n",
       "      <th></th>\n",
       "      <th>0</th>\n",
       "      <th>1</th>\n",
       "      <th>2</th>\n",
       "      <th>3</th>\n",
       "    </tr>\n",
       "  </thead>\n",
       "  <tbody>\n",
       "    <tr>\n",
       "      <th>0</th>\n",
       "      <td>5.018949</td>\n",
       "      <td>3.514854</td>\n",
       "      <td>1.466013</td>\n",
       "      <td>0.251922</td>\n",
       "    </tr>\n",
       "    <tr>\n",
       "      <th>1</th>\n",
       "      <td>4.738463</td>\n",
       "      <td>3.030433</td>\n",
       "      <td>1.603913</td>\n",
       "      <td>0.272074</td>\n",
       "    </tr>\n",
       "    <tr>\n",
       "      <th>2</th>\n",
       "      <td>4.720130</td>\n",
       "      <td>3.196830</td>\n",
       "      <td>1.328961</td>\n",
       "      <td>0.167414</td>\n",
       "    </tr>\n",
       "    <tr>\n",
       "      <th>3</th>\n",
       "      <td>4.668436</td>\n",
       "      <td>3.086770</td>\n",
       "      <td>1.384170</td>\n",
       "      <td>0.182247</td>\n",
       "    </tr>\n",
       "    <tr>\n",
       "      <th>4</th>\n",
       "      <td>5.017093</td>\n",
       "      <td>3.596402</td>\n",
       "      <td>1.345411</td>\n",
       "      <td>0.206706</td>\n",
       "    </tr>\n",
       "    <tr>\n",
       "      <th>...</th>\n",
       "      <td>...</td>\n",
       "      <td>...</td>\n",
       "      <td>...</td>\n",
       "      <td>...</td>\n",
       "    </tr>\n",
       "    <tr>\n",
       "      <th>145</th>\n",
       "      <td>6.768251</td>\n",
       "      <td>2.993679</td>\n",
       "      <td>5.684797</td>\n",
       "      <td>2.021678</td>\n",
       "    </tr>\n",
       "    <tr>\n",
       "      <th>146</th>\n",
       "      <td>6.236857</td>\n",
       "      <td>2.514614</td>\n",
       "      <td>5.317081</td>\n",
       "      <td>1.825121</td>\n",
       "    </tr>\n",
       "    <tr>\n",
       "      <th>147</th>\n",
       "      <td>6.581303</td>\n",
       "      <td>2.987266</td>\n",
       "      <td>5.322985</td>\n",
       "      <td>1.865778</td>\n",
       "    </tr>\n",
       "    <tr>\n",
       "      <th>148</th>\n",
       "      <td>6.748671</td>\n",
       "      <td>3.302311</td>\n",
       "      <td>5.203441</td>\n",
       "      <td>1.839848</td>\n",
       "    </tr>\n",
       "    <tr>\n",
       "      <th>149</th>\n",
       "      <td>6.248871</td>\n",
       "      <td>2.935170</td>\n",
       "      <td>4.737955</td>\n",
       "      <td>1.610330</td>\n",
       "    </tr>\n",
       "  </tbody>\n",
       "</table>\n",
       "<p>150 rows × 4 columns</p>\n",
       "</div>"
      ],
      "text/plain": [
       "            0         1         2         3\n",
       "0    5.018949  3.514854  1.466013  0.251922\n",
       "1    4.738463  3.030433  1.603913  0.272074\n",
       "2    4.720130  3.196830  1.328961  0.167414\n",
       "3    4.668436  3.086770  1.384170  0.182247\n",
       "4    5.017093  3.596402  1.345411  0.206706\n",
       "..        ...       ...       ...       ...\n",
       "145  6.768251  2.993679  5.684797  2.021678\n",
       "146  6.236857  2.514614  5.317081  1.825121\n",
       "147  6.581303  2.987266  5.322985  1.865778\n",
       "148  6.748671  3.302311  5.203441  1.839848\n",
       "149  6.248871  2.935170  4.737955  1.610330\n",
       "\n",
       "[150 rows x 4 columns]"
      ]
     },
     "execution_count": 12,
     "metadata": {},
     "output_type": "execute_result"
    }
   ],
   "source": [
    "pca.inverse_transform(pca.transform(X))"
   ]
  },
  {
   "cell_type": "markdown",
   "metadata": {},
   "source": [
    "## Análisis de correspondencias\n",
    "\n",
    "El análisis de correspondencia se utiliza cuando se desea analizar una tabla de contingencia. En otras palabras, buscamos analizar las dependencias entre dos variables categóricas."
   ]
  },
  {
   "cell_type": "code",
   "execution_count": 131,
   "metadata": {},
   "outputs": [
    {
     "data": {
      "text/html": [
       "<div>\n",
       "<style scoped>\n",
       "    .dataframe tbody tr th:only-of-type {\n",
       "        vertical-align: middle;\n",
       "    }\n",
       "\n",
       "    .dataframe tbody tr th {\n",
       "        vertical-align: top;\n",
       "    }\n",
       "\n",
       "    .dataframe thead th {\n",
       "        text-align: right;\n",
       "    }\n",
       "</style>\n",
       "<table border=\"1\" class=\"dataframe\">\n",
       "  <thead>\n",
       "    <tr style=\"text-align: right;\">\n",
       "      <th></th>\n",
       "      <th>Fair</th>\n",
       "      <th>Red</th>\n",
       "      <th>Medium</th>\n",
       "      <th>Dark</th>\n",
       "      <th>Black</th>\n",
       "    </tr>\n",
       "  </thead>\n",
       "  <tbody>\n",
       "    <tr>\n",
       "      <th>Blue</th>\n",
       "      <td>426</td>\n",
       "      <td>3</td>\n",
       "      <td>0</td>\n",
       "      <td>11</td>\n",
       "      <td>3</td>\n",
       "    </tr>\n",
       "    <tr>\n",
       "      <th>Light</th>\n",
       "      <td>5</td>\n",
       "      <td>300</td>\n",
       "      <td>45</td>\n",
       "      <td>0</td>\n",
       "      <td>4</td>\n",
       "    </tr>\n",
       "    <tr>\n",
       "      <th>Medium</th>\n",
       "      <td>312</td>\n",
       "      <td>84</td>\n",
       "      <td>409</td>\n",
       "      <td>41</td>\n",
       "      <td>26</td>\n",
       "    </tr>\n",
       "    <tr>\n",
       "      <th>Dark</th>\n",
       "      <td>398</td>\n",
       "      <td>148</td>\n",
       "      <td>40</td>\n",
       "      <td>381</td>\n",
       "      <td>5</td>\n",
       "    </tr>\n",
       "  </tbody>\n",
       "</table>\n",
       "</div>"
      ],
      "text/plain": [
       "        Fair  Red  Medium  Dark  Black\n",
       "Blue     426    3       0    11      3\n",
       "Light      5  300      45     0      4\n",
       "Medium   312   84     409    41     26\n",
       "Dark     398  148      40   381      5"
      ]
     },
     "execution_count": 131,
     "metadata": {},
     "output_type": "execute_result"
    }
   ],
   "source": [
    "import pandas as pd\n",
    "\n",
    "pd.set_option('display.float_format', lambda x: '{:.6f}'.format(x))\n",
    "X = pd.DataFrame(\n",
    "   data=[\n",
    "       [426, 3, 0, 11, 3],\n",
    "       [5, 300, 45, 0, 4],\n",
    "       [312, 84, 409, 41, 26],\n",
    "       [398, 148, 40, 381, 5]],\n",
    "   columns=pd.Series(['Fair', 'Red', 'Medium', 'Dark', 'Black']),\n",
    "   index=pd.Series(['Blue', 'Light', 'Medium', 'Dark']))\n",
    "X\n"
   ]
  },
  {
   "cell_type": "code",
   "execution_count": 132,
   "metadata": {},
   "outputs": [],
   "source": [
    "X1=X[[\"Fair\",\"Red\",\"Dark\",\"Black\"]]\n",
    "X1=X1.iloc[[0,1,3]]"
   ]
  },
  {
   "cell_type": "code",
   "execution_count": 134,
   "metadata": {},
   "outputs": [
    {
     "data": {
      "image/png": "[encoded data removed]",
      "text/plain": [
       "<Figure size 432x288 with 2 Axes>"
      ]
     },
     "metadata": {
      "needs_background": "light"
     },
     "output_type": "display_data"
    }
   ],
   "source": [
    "import matplotlib.pyplot as plt \n",
    "import seaborn as sns\n",
    "fig, ax = plt.subplots()\n",
    "s=sns.heatmap(X,cmap='coolwarm') \n",
    "ax.set_xlim(0,5)\n",
    "ax.set_ylim(0,4)\n",
    "plt.show()\n",
    "\n"
   ]
  },
  {
   "cell_type": "code",
   "execution_count": 135,
   "metadata": {},
   "outputs": [],
   "source": [
    "ca = prince.CA(\n",
    "    n_components=2,\n",
    "    n_iter=3,\n",
    "    copy=True,\n",
    "    check_input=True,\n",
    "    engine='auto',\n",
    "    random_state=42)"
   ]
  },
  {
   "cell_type": "code",
   "execution_count": 136,
   "metadata": {},
   "outputs": [
    {
     "data": {
      "text/html": [
       "<div>\n",
       "<style scoped>\n",
       "    .dataframe tbody tr th:only-of-type {\n",
       "        vertical-align: middle;\n",
       "    }\n",
       "\n",
       "    .dataframe tbody tr th {\n",
       "        vertical-align: top;\n",
       "    }\n",
       "\n",
       "    .dataframe thead th {\n",
       "        text-align: right;\n",
       "    }\n",
       "</style>\n",
       "<table border=\"1\" class=\"dataframe\">\n",
       "  <thead>\n",
       "    <tr style=\"text-align: right;\">\n",
       "      <th>Hair color</th>\n",
       "      <th>Fair</th>\n",
       "      <th>Red</th>\n",
       "      <th>Medium</th>\n",
       "      <th>Dark</th>\n",
       "      <th>Black</th>\n",
       "    </tr>\n",
       "    <tr>\n",
       "      <th>Eye color</th>\n",
       "      <th></th>\n",
       "      <th></th>\n",
       "      <th></th>\n",
       "      <th></th>\n",
       "      <th></th>\n",
       "    </tr>\n",
       "  </thead>\n",
       "  <tbody>\n",
       "    <tr>\n",
       "      <th>Blue</th>\n",
       "      <td>426</td>\n",
       "      <td>3</td>\n",
       "      <td>0</td>\n",
       "      <td>11</td>\n",
       "      <td>3</td>\n",
       "    </tr>\n",
       "    <tr>\n",
       "      <th>Light</th>\n",
       "      <td>5</td>\n",
       "      <td>300</td>\n",
       "      <td>45</td>\n",
       "      <td>0</td>\n",
       "      <td>4</td>\n",
       "    </tr>\n",
       "    <tr>\n",
       "      <th>Medium</th>\n",
       "      <td>312</td>\n",
       "      <td>84</td>\n",
       "      <td>409</td>\n",
       "      <td>41</td>\n",
       "      <td>26</td>\n",
       "    </tr>\n",
       "    <tr>\n",
       "      <th>Dark</th>\n",
       "      <td>398</td>\n",
       "      <td>148</td>\n",
       "      <td>40</td>\n",
       "      <td>381</td>\n",
       "      <td>5</td>\n",
       "    </tr>\n",
       "  </tbody>\n",
       "</table>\n",
       "</div>"
      ],
      "text/plain": [
       "Hair color  Fair  Red  Medium  Dark  Black\n",
       "Eye color                                 \n",
       "Blue         426    3       0    11      3\n",
       "Light          5  300      45     0      4\n",
       "Medium       312   84     409    41     26\n",
       "Dark         398  148      40   381      5"
      ]
     },
     "execution_count": 136,
     "metadata": {},
     "output_type": "execute_result"
    }
   ],
   "source": [
    "X.columns.rename('Hair color', inplace=True)\n",
    "X.index.rename('Eye color', inplace=True)\n",
    "X"
   ]
  },
  {
   "cell_type": "code",
   "execution_count": 137,
   "metadata": {},
   "outputs": [],
   "source": [
    "ca = ca.fit(X)"
   ]
  },
  {
   "cell_type": "code",
   "execution_count": 138,
   "metadata": {},
   "outputs": [
    {
     "data": {
      "text/html": [
       "<div>\n",
       "<style scoped>\n",
       "    .dataframe tbody tr th:only-of-type {\n",
       "        vertical-align: middle;\n",
       "    }\n",
       "\n",
       "    .dataframe tbody tr th {\n",
       "        vertical-align: top;\n",
       "    }\n",
       "\n",
       "    .dataframe thead th {\n",
       "        text-align: right;\n",
       "    }\n",
       "</style>\n",
       "<table border=\"1\" class=\"dataframe\">\n",
       "  <thead>\n",
       "    <tr style=\"text-align: right;\">\n",
       "      <th></th>\n",
       "      <th>0</th>\n",
       "      <th>1</th>\n",
       "    </tr>\n",
       "  </thead>\n",
       "  <tbody>\n",
       "    <tr>\n",
       "      <th>Blue</th>\n",
       "      <td>-0.765860</td>\n",
       "      <td>-0.053648</td>\n",
       "    </tr>\n",
       "    <tr>\n",
       "      <th>Light</th>\n",
       "      <td>1.567012</td>\n",
       "      <td>-0.269920</td>\n",
       "    </tr>\n",
       "    <tr>\n",
       "      <th>Medium</th>\n",
       "      <td>0.011418</td>\n",
       "      <td>0.750339</td>\n",
       "    </tr>\n",
       "    <tr>\n",
       "      <th>Dark</th>\n",
       "      <td>-0.231895</td>\n",
       "      <td>-0.550389</td>\n",
       "    </tr>\n",
       "  </tbody>\n",
       "</table>\n",
       "</div>"
      ],
      "text/plain": [
       "               0         1\n",
       "Blue   -0.765860 -0.053648\n",
       "Light   1.567012 -0.269920\n",
       "Medium  0.011418  0.750339\n",
       "Dark   -0.231895 -0.550389"
      ]
     },
     "execution_count": 138,
     "metadata": {},
     "output_type": "execute_result"
    }
   ],
   "source": [
    "ca.row_coordinates(X)"
   ]
  },
  {
   "cell_type": "code",
   "execution_count": 139,
   "metadata": {},
   "outputs": [
    {
     "data": {
      "text/html": [
       "<div>\n",
       "<style scoped>\n",
       "    .dataframe tbody tr th:only-of-type {\n",
       "        vertical-align: middle;\n",
       "    }\n",
       "\n",
       "    .dataframe tbody tr th {\n",
       "        vertical-align: top;\n",
       "    }\n",
       "\n",
       "    .dataframe thead th {\n",
       "        text-align: right;\n",
       "    }\n",
       "</style>\n",
       "<table border=\"1\" class=\"dataframe\">\n",
       "  <thead>\n",
       "    <tr style=\"text-align: right;\">\n",
       "      <th></th>\n",
       "      <th>0</th>\n",
       "      <th>1</th>\n",
       "    </tr>\n",
       "  </thead>\n",
       "  <tbody>\n",
       "    <tr>\n",
       "      <th>Fair</th>\n",
       "      <td>-0.533512</td>\n",
       "      <td>-0.014462</td>\n",
       "    </tr>\n",
       "    <tr>\n",
       "      <th>Red</th>\n",
       "      <td>1.214093</td>\n",
       "      <td>-0.335538</td>\n",
       "    </tr>\n",
       "    <tr>\n",
       "      <th>Medium</th>\n",
       "      <td>0.199477</td>\n",
       "      <td>0.995371</td>\n",
       "    </tr>\n",
       "    <tr>\n",
       "      <th>Dark</th>\n",
       "      <td>-0.332543</td>\n",
       "      <td>-0.747515</td>\n",
       "    </tr>\n",
       "    <tr>\n",
       "      <th>Black</th>\n",
       "      <td>0.122278</td>\n",
       "      <td>0.736186</td>\n",
       "    </tr>\n",
       "  </tbody>\n",
       "</table>\n",
       "</div>"
      ],
      "text/plain": [
       "               0         1\n",
       "Fair   -0.533512 -0.014462\n",
       "Red     1.214093 -0.335538\n",
       "Medium  0.199477  0.995371\n",
       "Dark   -0.332543 -0.747515\n",
       "Black   0.122278  0.736186"
      ]
     },
     "execution_count": 139,
     "metadata": {},
     "output_type": "execute_result"
    }
   ],
   "source": [
    "ca.column_coordinates(X)"
   ]
  },
  {
   "cell_type": "markdown",
   "metadata": {},
   "source": [
    "Puede trazar ambos conjuntos de coordenadas principales con el método plot_coordinates."
   ]
  },
  {
   "cell_type": "code",
   "execution_count": 140,
   "metadata": {},
   "outputs": [
    {
     "data": {
      "image/png": "[encoded data removed]",
      "text/plain": [
       "<Figure size 432x432 with 1 Axes>"
      ]
     },
     "metadata": {
      "needs_background": "light"
     },
     "output_type": "display_data"
    }
   ],
   "source": [
    "ax = ca.plot_coordinates(\n",
    "    X=X,\n",
    "    ax=None,\n",
    "    figsize=(6, 6),\n",
    "    x_component=0,\n",
    "    y_component=1,\n",
    "    show_row_labels=True,\n",
    "    show_col_labels=True)"
   ]
  },
  {
   "cell_type": "code",
   "execution_count": 141,
   "metadata": {},
   "outputs": [
    {
     "data": {
      "text/plain": [
       "[0.44736017199854394, 0.30763169210186736]"
      ]
     },
     "execution_count": 141,
     "metadata": {},
     "output_type": "execute_result"
    }
   ],
   "source": [
    "ca.eigenvalues_ "
   ]
  },
  {
   "cell_type": "code",
   "execution_count": 142,
   "metadata": {},
   "outputs": [
    {
     "data": {
      "text/plain": [
       "0.9082818012257067"
      ]
     },
     "execution_count": 142,
     "metadata": {},
     "output_type": "execute_result"
    }
   ],
   "source": [
    "ca.total_inertia_"
   ]
  },
  {
   "cell_type": "code",
   "execution_count": 143,
   "metadata": {},
   "outputs": [
    {
     "data": {
      "text/plain": [
       "[0.49253455413819924, 0.3386963073428588]"
      ]
     },
     "execution_count": 143,
     "metadata": {},
     "output_type": "execute_result"
    }
   ],
   "source": [
    "ca.explained_inertia_"
   ]
  },
  {
   "cell_type": "markdown",
   "metadata": {},
   "source": [
    "## Análisis de correspondencias multiples\n",
    "\n",
    "El análisis de correspondencia múltiple (ACM) es una extensión del análisis de correspondencia (AC). Debería utilizarse cuando tenga más de dos variables categóricas. La idea es simplemente calcular los one-hot-vector de un conjunto de datos y aplicar CA en él. Como ejemplo, usaremos el conjunto de datos de [globos](https://archive.ics.uci.edu/ml/machine-learning-databases/balloons/) tomados del sitio web de conjuntos de datos de UCI."
   ]
  },
  {
   "cell_type": "code",
   "execution_count": 147,
   "metadata": {},
   "outputs": [
    {
     "data": {
      "text/html": [
       "<div>\n",
       "<style scoped>\n",
       "    .dataframe tbody tr th:only-of-type {\n",
       "        vertical-align: middle;\n",
       "    }\n",
       "\n",
       "    .dataframe tbody tr th {\n",
       "        vertical-align: top;\n",
       "    }\n",
       "\n",
       "    .dataframe thead th {\n",
       "        text-align: right;\n",
       "    }\n",
       "</style>\n",
       "<table border=\"1\" class=\"dataframe\">\n",
       "  <thead>\n",
       "    <tr style=\"text-align: right;\">\n",
       "      <th></th>\n",
       "      <th>Color</th>\n",
       "      <th>Size</th>\n",
       "      <th>Action</th>\n",
       "      <th>Age</th>\n",
       "      <th>Inflated</th>\n",
       "    </tr>\n",
       "  </thead>\n",
       "  <tbody>\n",
       "    <tr>\n",
       "      <th>0</th>\n",
       "      <td>YELLOW</td>\n",
       "      <td>SMALL</td>\n",
       "      <td>STRETCH</td>\n",
       "      <td>ADULT</td>\n",
       "      <td>T</td>\n",
       "    </tr>\n",
       "    <tr>\n",
       "      <th>1</th>\n",
       "      <td>YELLOW</td>\n",
       "      <td>SMALL</td>\n",
       "      <td>STRETCH</td>\n",
       "      <td>CHILD</td>\n",
       "      <td>F</td>\n",
       "    </tr>\n",
       "    <tr>\n",
       "      <th>2</th>\n",
       "      <td>YELLOW</td>\n",
       "      <td>SMALL</td>\n",
       "      <td>DIP</td>\n",
       "      <td>ADULT</td>\n",
       "      <td>F</td>\n",
       "    </tr>\n",
       "    <tr>\n",
       "      <th>3</th>\n",
       "      <td>YELLOW</td>\n",
       "      <td>SMALL</td>\n",
       "      <td>DIP</td>\n",
       "      <td>CHILD</td>\n",
       "      <td>F</td>\n",
       "    </tr>\n",
       "    <tr>\n",
       "      <th>4</th>\n",
       "      <td>YELLOW</td>\n",
       "      <td>LARGE</td>\n",
       "      <td>STRETCH</td>\n",
       "      <td>ADULT</td>\n",
       "      <td>T</td>\n",
       "    </tr>\n",
       "    <tr>\n",
       "      <th>5</th>\n",
       "      <td>YELLOW</td>\n",
       "      <td>LARGE</td>\n",
       "      <td>STRETCH</td>\n",
       "      <td>ADULT</td>\n",
       "      <td>T</td>\n",
       "    </tr>\n",
       "    <tr>\n",
       "      <th>6</th>\n",
       "      <td>YELLOW</td>\n",
       "      <td>LARGE</td>\n",
       "      <td>STRETCH</td>\n",
       "      <td>CHILD</td>\n",
       "      <td>F</td>\n",
       "    </tr>\n",
       "    <tr>\n",
       "      <th>7</th>\n",
       "      <td>YELLOW</td>\n",
       "      <td>LARGE</td>\n",
       "      <td>DIP</td>\n",
       "      <td>ADULT</td>\n",
       "      <td>F</td>\n",
       "    </tr>\n",
       "    <tr>\n",
       "      <th>8</th>\n",
       "      <td>YELLOW</td>\n",
       "      <td>LARGE</td>\n",
       "      <td>DIP</td>\n",
       "      <td>CHILD</td>\n",
       "      <td>F</td>\n",
       "    </tr>\n",
       "    <tr>\n",
       "      <th>9</th>\n",
       "      <td>PURPLE</td>\n",
       "      <td>SMALL</td>\n",
       "      <td>STRETCH</td>\n",
       "      <td>ADULT</td>\n",
       "      <td>T</td>\n",
       "    </tr>\n",
       "    <tr>\n",
       "      <th>10</th>\n",
       "      <td>PURPLE</td>\n",
       "      <td>SMALL</td>\n",
       "      <td>STRETCH</td>\n",
       "      <td>ADULT</td>\n",
       "      <td>T</td>\n",
       "    </tr>\n",
       "    <tr>\n",
       "      <th>11</th>\n",
       "      <td>PURPLE</td>\n",
       "      <td>SMALL</td>\n",
       "      <td>STRETCH</td>\n",
       "      <td>CHILD</td>\n",
       "      <td>F</td>\n",
       "    </tr>\n",
       "    <tr>\n",
       "      <th>12</th>\n",
       "      <td>PURPLE</td>\n",
       "      <td>SMALL</td>\n",
       "      <td>DIP</td>\n",
       "      <td>ADULT</td>\n",
       "      <td>F</td>\n",
       "    </tr>\n",
       "    <tr>\n",
       "      <th>13</th>\n",
       "      <td>PURPLE</td>\n",
       "      <td>SMALL</td>\n",
       "      <td>DIP</td>\n",
       "      <td>CHILD</td>\n",
       "      <td>F</td>\n",
       "    </tr>\n",
       "    <tr>\n",
       "      <th>14</th>\n",
       "      <td>PURPLE</td>\n",
       "      <td>LARGE</td>\n",
       "      <td>STRETCH</td>\n",
       "      <td>ADULT</td>\n",
       "      <td>T</td>\n",
       "    </tr>\n",
       "    <tr>\n",
       "      <th>15</th>\n",
       "      <td>PURPLE</td>\n",
       "      <td>LARGE</td>\n",
       "      <td>STRETCH</td>\n",
       "      <td>ADULT</td>\n",
       "      <td>T</td>\n",
       "    </tr>\n",
       "    <tr>\n",
       "      <th>16</th>\n",
       "      <td>PURPLE</td>\n",
       "      <td>LARGE</td>\n",
       "      <td>STRETCH</td>\n",
       "      <td>CHILD</td>\n",
       "      <td>F</td>\n",
       "    </tr>\n",
       "    <tr>\n",
       "      <th>17</th>\n",
       "      <td>PURPLE</td>\n",
       "      <td>LARGE</td>\n",
       "      <td>DIP</td>\n",
       "      <td>ADULT</td>\n",
       "      <td>F</td>\n",
       "    </tr>\n",
       "    <tr>\n",
       "      <th>18</th>\n",
       "      <td>PURPLE</td>\n",
       "      <td>LARGE</td>\n",
       "      <td>DIP</td>\n",
       "      <td>CHILD</td>\n",
       "      <td>F</td>\n",
       "    </tr>\n",
       "  </tbody>\n",
       "</table>\n",
       "</div>"
      ],
      "text/plain": [
       "     Color   Size   Action    Age Inflated\n",
       "0   YELLOW  SMALL  STRETCH  ADULT        T\n",
       "1   YELLOW  SMALL  STRETCH  CHILD        F\n",
       "2   YELLOW  SMALL      DIP  ADULT        F\n",
       "3   YELLOW  SMALL      DIP  CHILD        F\n",
       "4   YELLOW  LARGE  STRETCH  ADULT        T\n",
       "5   YELLOW  LARGE  STRETCH  ADULT        T\n",
       "6   YELLOW  LARGE  STRETCH  CHILD        F\n",
       "7   YELLOW  LARGE      DIP  ADULT        F\n",
       "8   YELLOW  LARGE      DIP  CHILD        F\n",
       "9   PURPLE  SMALL  STRETCH  ADULT        T\n",
       "10  PURPLE  SMALL  STRETCH  ADULT        T\n",
       "11  PURPLE  SMALL  STRETCH  CHILD        F\n",
       "12  PURPLE  SMALL      DIP  ADULT        F\n",
       "13  PURPLE  SMALL      DIP  CHILD        F\n",
       "14  PURPLE  LARGE  STRETCH  ADULT        T\n",
       "15  PURPLE  LARGE  STRETCH  ADULT        T\n",
       "16  PURPLE  LARGE  STRETCH  CHILD        F\n",
       "17  PURPLE  LARGE      DIP  ADULT        F\n",
       "18  PURPLE  LARGE      DIP  CHILD        F"
      ]
     },
     "execution_count": 147,
     "metadata": {},
     "output_type": "execute_result"
    }
   ],
   "source": [
    "X = pd.read_csv('https://archive.ics.uci.edu/ml/machine-learning-databases/balloons/adult+stretch.data')\n",
    "X.columns = ['Color', 'Size', 'Action', 'Age', 'Inflated']\n",
    "X"
   ]
  },
  {
   "cell_type": "code",
   "execution_count": 173,
   "metadata": {},
   "outputs": [],
   "source": [
    "mca = prince.MCA(\n",
    "    n_components=4,\n",
    "    n_iter=3,\n",
    "    copy=True,\n",
    "    check_input=True,\n",
    "    engine='auto',\n",
    "    random_state=42)\n",
    "mca = mca.fit(X)\n"
   ]
  },
  {
   "cell_type": "markdown",
   "metadata": {},
   "source": [
    "Usamos nuevamente plot_coordinates"
   ]
  },
  {
   "cell_type": "code",
   "execution_count": 175,
   "metadata": {},
   "outputs": [
    {
     "data": {
      "image/png": "[encoded data removed]",
      "text/plain": [
       "<Figure size 720x720 with 1 Axes>"
      ]
     },
     "metadata": {
      "needs_background": "light"
     },
     "output_type": "display_data"
    }
   ],
   "source": [
    "ax = mca.plot_coordinates(\n",
    "    X=X,\n",
    "    ax=None,\n",
    "    x_component=1,\n",
    "    y_component=3,\n",
    "    figsize=(10, 10),\n",
    "    show_row_points=False,\n",
    "    show_row_labels=False,\n",
    "    show_column_points=True,\n",
    "    column_points_size=50,\n",
    "    show_column_labels=True,\n",
    "    legend_n_cols=2)"
   ]
  },
  {
   "cell_type": "code",
   "execution_count": 165,
   "metadata": {},
   "outputs": [
    {
     "data": {
      "text/html": [
       "<div>\n",
       "<style scoped>\n",
       "    .dataframe tbody tr th:only-of-type {\n",
       "        vertical-align: middle;\n",
       "    }\n",
       "\n",
       "    .dataframe tbody tr th {\n",
       "        vertical-align: top;\n",
       "    }\n",
       "\n",
       "    .dataframe thead th {\n",
       "        text-align: right;\n",
       "    }\n",
       "</style>\n",
       "<table border=\"1\" class=\"dataframe\">\n",
       "  <thead>\n",
       "    <tr style=\"text-align: right;\">\n",
       "      <th></th>\n",
       "      <th>0</th>\n",
       "      <th>1</th>\n",
       "    </tr>\n",
       "  </thead>\n",
       "  <tbody>\n",
       "    <tr>\n",
       "      <th>Color_PURPLE</th>\n",
       "      <td>0.117308</td>\n",
       "      <td>0.689202</td>\n",
       "    </tr>\n",
       "    <tr>\n",
       "      <th>Color_YELLOW</th>\n",
       "      <td>-0.130342</td>\n",
       "      <td>-0.765780</td>\n",
       "    </tr>\n",
       "    <tr>\n",
       "      <th>Size_LARGE</th>\n",
       "      <td>0.117308</td>\n",
       "      <td>-0.689202</td>\n",
       "    </tr>\n",
       "    <tr>\n",
       "      <th>Size_SMALL</th>\n",
       "      <td>-0.130342</td>\n",
       "      <td>0.765780</td>\n",
       "    </tr>\n",
       "    <tr>\n",
       "      <th>Action_DIP</th>\n",
       "      <td>-0.853864</td>\n",
       "      <td>-0.000000</td>\n",
       "    </tr>\n",
       "    <tr>\n",
       "      <th>Action_STRETCH</th>\n",
       "      <td>0.620992</td>\n",
       "      <td>-0.000000</td>\n",
       "    </tr>\n",
       "    <tr>\n",
       "      <th>Age_ADULT</th>\n",
       "      <td>0.620992</td>\n",
       "      <td>0.000000</td>\n",
       "    </tr>\n",
       "    <tr>\n",
       "      <th>Age_CHILD</th>\n",
       "      <td>-0.853864</td>\n",
       "      <td>-0.000000</td>\n",
       "    </tr>\n",
       "    <tr>\n",
       "      <th>Inflated_F</th>\n",
       "      <td>-0.731466</td>\n",
       "      <td>-0.000000</td>\n",
       "    </tr>\n",
       "    <tr>\n",
       "      <th>Inflated_T</th>\n",
       "      <td>1.253942</td>\n",
       "      <td>0.000000</td>\n",
       "    </tr>\n",
       "  </tbody>\n",
       "</table>\n",
       "</div>"
      ],
      "text/plain": [
       "                       0         1\n",
       "Color_PURPLE    0.117308  0.689202\n",
       "Color_YELLOW   -0.130342 -0.765780\n",
       "Size_LARGE      0.117308 -0.689202\n",
       "Size_SMALL     -0.130342  0.765780\n",
       "Action_DIP     -0.853864 -0.000000\n",
       "Action_STRETCH  0.620992 -0.000000\n",
       "Age_ADULT       0.620992  0.000000\n",
       "Age_CHILD      -0.853864 -0.000000\n",
       "Inflated_F     -0.731466 -0.000000\n",
       "Inflated_T      1.253942  0.000000"
      ]
     },
     "execution_count": 165,
     "metadata": {},
     "output_type": "execute_result"
    }
   ],
   "source": [
    "mca.column_coordinates(X)"
   ]
  },
  {
   "cell_type": "markdown",
   "metadata": {},
   "source": [
    "### Análisis de factores múltiple\n",
    "\n",
    "El análisis de factores múltiples (MFA) está diseñado para usarse cuando tiene grupos de variables. En la práctica, construye un PCA en cada grupo, o un MCA, según los tipos de variables del grupo. Luego, construye un PCA global sobre los resultados de los llamados PCA parciales, o MCA.\n",
    "\n",
    "El conjunto de datos utilizado en los siguientes ejemplos proviene de este [documento](https://www.utdallas.edu/%7Eherve/Abdi-MFA2007-pretty.pdf). En el conjunto de datos, tres expertos dan su opinión sobre seis vinos diferentes. Cada opinión para cada vino se registra como una variable. Por lo tanto, queremos considerar las opiniones separadas de cada experto y al mismo tiempo tener una visión global de cada vino. MFA es el método perfecto para este tipo de situación.\n",
    "\n",
    "Primero que nada, copiemos los datos usados en el documento."
   ]
  },
  {
   "cell_type": "code",
   "execution_count": 179,
   "metadata": {},
   "outputs": [
    {
     "data": {
      "text/html": [
       "<div>\n",
       "<style scoped>\n",
       "    .dataframe tbody tr th:only-of-type {\n",
       "        vertical-align: middle;\n",
       "    }\n",
       "\n",
       "    .dataframe tbody tr th {\n",
       "        vertical-align: top;\n",
       "    }\n",
       "\n",
       "    .dataframe thead th {\n",
       "        text-align: right;\n",
       "    }\n",
       "</style>\n",
       "<table border=\"1\" class=\"dataframe\">\n",
       "  <thead>\n",
       "    <tr style=\"text-align: right;\">\n",
       "      <th></th>\n",
       "      <th>E1 fruity</th>\n",
       "      <th>E1 woody</th>\n",
       "      <th>E1 coffee</th>\n",
       "      <th>E2 red fruit</th>\n",
       "      <th>E2 roasted</th>\n",
       "      <th>E2 vanillin</th>\n",
       "      <th>E2 woody</th>\n",
       "      <th>E3 fruity</th>\n",
       "      <th>E3 butter</th>\n",
       "      <th>E3 woody</th>\n",
       "      <th>Oak type</th>\n",
       "    </tr>\n",
       "  </thead>\n",
       "  <tbody>\n",
       "    <tr>\n",
       "      <th>Wine 1</th>\n",
       "      <td>1</td>\n",
       "      <td>6</td>\n",
       "      <td>7</td>\n",
       "      <td>2</td>\n",
       "      <td>5</td>\n",
       "      <td>7</td>\n",
       "      <td>6</td>\n",
       "      <td>3</td>\n",
       "      <td>6</td>\n",
       "      <td>7</td>\n",
       "      <td>1</td>\n",
       "    </tr>\n",
       "    <tr>\n",
       "      <th>Wine 2</th>\n",
       "      <td>5</td>\n",
       "      <td>3</td>\n",
       "      <td>2</td>\n",
       "      <td>4</td>\n",
       "      <td>4</td>\n",
       "      <td>4</td>\n",
       "      <td>2</td>\n",
       "      <td>4</td>\n",
       "      <td>4</td>\n",
       "      <td>3</td>\n",
       "      <td>2</td>\n",
       "    </tr>\n",
       "    <tr>\n",
       "      <th>Wine 3</th>\n",
       "      <td>6</td>\n",
       "      <td>1</td>\n",
       "      <td>1</td>\n",
       "      <td>5</td>\n",
       "      <td>2</td>\n",
       "      <td>1</td>\n",
       "      <td>1</td>\n",
       "      <td>7</td>\n",
       "      <td>1</td>\n",
       "      <td>1</td>\n",
       "      <td>2</td>\n",
       "    </tr>\n",
       "    <tr>\n",
       "      <th>Wine 4</th>\n",
       "      <td>7</td>\n",
       "      <td>1</td>\n",
       "      <td>2</td>\n",
       "      <td>7</td>\n",
       "      <td>2</td>\n",
       "      <td>1</td>\n",
       "      <td>2</td>\n",
       "      <td>2</td>\n",
       "      <td>2</td>\n",
       "      <td>2</td>\n",
       "      <td>2</td>\n",
       "    </tr>\n",
       "    <tr>\n",
       "      <th>Wine 5</th>\n",
       "      <td>2</td>\n",
       "      <td>5</td>\n",
       "      <td>4</td>\n",
       "      <td>3</td>\n",
       "      <td>5</td>\n",
       "      <td>6</td>\n",
       "      <td>5</td>\n",
       "      <td>2</td>\n",
       "      <td>6</td>\n",
       "      <td>6</td>\n",
       "      <td>1</td>\n",
       "    </tr>\n",
       "    <tr>\n",
       "      <th>Wine 6</th>\n",
       "      <td>3</td>\n",
       "      <td>4</td>\n",
       "      <td>4</td>\n",
       "      <td>3</td>\n",
       "      <td>5</td>\n",
       "      <td>4</td>\n",
       "      <td>5</td>\n",
       "      <td>1</td>\n",
       "      <td>7</td>\n",
       "      <td>5</td>\n",
       "      <td>1</td>\n",
       "    </tr>\n",
       "  </tbody>\n",
       "</table>\n",
       "</div>"
      ],
      "text/plain": [
       "        E1 fruity  E1 woody  E1 coffee  E2 red fruit  E2 roasted  E2 vanillin  \\\n",
       "Wine 1          1         6          7             2           5            7   \n",
       "Wine 2          5         3          2             4           4            4   \n",
       "Wine 3          6         1          1             5           2            1   \n",
       "Wine 4          7         1          2             7           2            1   \n",
       "Wine 5          2         5          4             3           5            6   \n",
       "Wine 6          3         4          4             3           5            4   \n",
       "\n",
       "        E2 woody  E3 fruity  E3 butter  E3 woody  Oak type  \n",
       "Wine 1         6          3          6         7         1  \n",
       "Wine 2         2          4          4         3         2  \n",
       "Wine 3         1          7          1         1         2  \n",
       "Wine 4         2          2          2         2         2  \n",
       "Wine 5         5          2          6         6         1  \n",
       "Wine 6         5          1          7         5         1  "
      ]
     },
     "execution_count": 179,
     "metadata": {},
     "output_type": "execute_result"
    }
   ],
   "source": [
    "X = pd.DataFrame(\n",
    "    data=[\n",
    "        [1, 6, 7, 2, 5, 7, 6, 3, 6, 7],\n",
    "        [5, 3, 2, 4, 4, 4, 2, 4, 4, 3],\n",
    "        [6, 1, 1, 5, 2, 1, 1, 7, 1, 1],\n",
    "        [7, 1, 2, 7, 2, 1, 2, 2, 2, 2],\n",
    "        [2, 5, 4, 3, 5, 6, 5, 2, 6, 6],\n",
    "        [3, 4, 4, 3, 5, 4, 5, 1, 7, 5]],\n",
    "    columns=['E1 fruity', 'E1 woody', 'E1 coffee',\n",
    "             'E2 red fruit', 'E2 roasted', 'E2 vanillin', 'E2 woody',\n",
    "             'E3 fruity', 'E3 butter', 'E3 woody'],\n",
    "    index=['Wine {}'.format(i+1) for i in range(6)])\n",
    "X['Oak type'] = [1, 2, 2, 2, 1, 1]\n",
    "X"
   ]
  },
  {
   "cell_type": "markdown",
   "metadata": {},
   "source": [
    "Los grupos se pasan como un diccionario a la clase MFA."
   ]
  },
  {
   "cell_type": "code",
   "execution_count": 180,
   "metadata": {},
   "outputs": [
    {
     "name": "stdout",
     "output_type": "stream",
     "text": [
      "{'Expert #1': ['E1 fruity', 'E1 woody', 'E1 coffee'], 'Expert #2': ['E2 red fruit', 'E2 roasted', 'E2 vanillin', 'E2 woody'], 'Expert #3': ['E3 fruity', 'E3 butter', 'E3 woody']}\n"
     ]
    }
   ],
   "source": [
    "groups = {\n",
    "   'Expert #{}'.format(no+1): [c for c in X.columns if c.startswith('E{}'.format(no+1))]\n",
    "   for no in range(3)\n",
    "}\n",
    "print(groups)"
   ]
  },
  {
   "cell_type": "markdown",
   "metadata": {},
   "source": [
    "Ajustamos un MFA"
   ]
  },
  {
   "cell_type": "code",
   "execution_count": 181,
   "metadata": {},
   "outputs": [],
   "source": [
    "mfa = prince.MFA(\n",
    "    groups=groups,\n",
    "    n_components=2,\n",
    "    n_iter=3,\n",
    "    copy=True,\n",
    "    check_input=True,\n",
    "    random_state=42)\n",
    "mfa = mfa.fit(X)\n"
   ]
  },
  {
   "cell_type": "markdown",
   "metadata": {},
   "source": [
    "El MFA hereda de la clase PCA, lo que implica que tiene acceso a todos sus métodos y propiedades. El método row_coordinates devolverá las coordenadas globales de cada vino."
   ]
  },
  {
   "cell_type": "code",
   "execution_count": 182,
   "metadata": {},
   "outputs": [
    {
     "data": {
      "text/html": [
       "<div>\n",
       "<style scoped>\n",
       "    .dataframe tbody tr th:only-of-type {\n",
       "        vertical-align: middle;\n",
       "    }\n",
       "\n",
       "    .dataframe tbody tr th {\n",
       "        vertical-align: top;\n",
       "    }\n",
       "\n",
       "    .dataframe thead th {\n",
       "        text-align: right;\n",
       "    }\n",
       "</style>\n",
       "<table border=\"1\" class=\"dataframe\">\n",
       "  <thead>\n",
       "    <tr style=\"text-align: right;\">\n",
       "      <th></th>\n",
       "      <th>0</th>\n",
       "      <th>1</th>\n",
       "    </tr>\n",
       "  </thead>\n",
       "  <tbody>\n",
       "    <tr>\n",
       "      <th>Wine 1</th>\n",
       "      <td>-2.172155</td>\n",
       "      <td>-0.508596</td>\n",
       "    </tr>\n",
       "    <tr>\n",
       "      <th>Wine 2</th>\n",
       "      <td>0.557017</td>\n",
       "      <td>-0.197408</td>\n",
       "    </tr>\n",
       "    <tr>\n",
       "      <th>Wine 3</th>\n",
       "      <td>2.317663</td>\n",
       "      <td>-0.830259</td>\n",
       "    </tr>\n",
       "    <tr>\n",
       "      <th>Wine 4</th>\n",
       "      <td>1.832557</td>\n",
       "      <td>0.905046</td>\n",
       "    </tr>\n",
       "    <tr>\n",
       "      <th>Wine 5</th>\n",
       "      <td>-1.403787</td>\n",
       "      <td>0.054977</td>\n",
       "    </tr>\n",
       "    <tr>\n",
       "      <th>Wine 6</th>\n",
       "      <td>-1.131296</td>\n",
       "      <td>0.576241</td>\n",
       "    </tr>\n",
       "  </tbody>\n",
       "</table>\n",
       "</div>"
      ],
      "text/plain": [
       "               0         1\n",
       "Wine 1 -2.172155 -0.508596\n",
       "Wine 2  0.557017 -0.197408\n",
       "Wine 3  2.317663 -0.830259\n",
       "Wine 4  1.832557  0.905046\n",
       "Wine 5 -1.403787  0.054977\n",
       "Wine 6 -1.131296  0.576241"
      ]
     },
     "execution_count": 182,
     "metadata": {},
     "output_type": "execute_result"
    }
   ],
   "source": [
    "mfa.row_coordinates(X)"
   ]
  },
  {
   "cell_type": "markdown",
   "metadata": {},
   "source": [
    "Al igual que para el PCA, puede trazar las coordenadas de la fila con el comando plot_row_coordinates."
   ]
  },
  {
   "cell_type": "code",
   "execution_count": 183,
   "metadata": {},
   "outputs": [
    {
     "data": {
      "image/png": "[encoded data removed]",
      "text/plain": [
       "<Figure size 432x432 with 1 Axes>"
      ]
     },
     "metadata": {
      "needs_background": "light"
     },
     "output_type": "display_data"
    }
   ],
   "source": [
    "ax = mfa.plot_row_coordinates(\n",
    "    X,\n",
    "    ax=None,\n",
    "    figsize=(6, 6),\n",
    "    x_component=0,\n",
    "    y_component=1,\n",
    "    labels=X.index,\n",
    "    color_labels=['Oak type {}'.format(t) for t in X['Oak type']],\n",
    "    ellipse_outline=False,\n",
    "    ellipse_fill=True,\n",
    "    show_points=True)"
   ]
  },
  {
   "cell_type": "markdown",
   "metadata": {},
   "source": [
    "También puede obtener las coordenadas de las filas dentro de cada grupo. El método parcial_row_coordinates devuelve un pandas.DataFrame donde el conjunto de columnas es un pandas.MultiIndex. El primer nivel de indexación corresponde a cada grupo especificado, mientras que el nivel anidado indica las coordenadas dentro de cada grupo."
   ]
  },
  {
   "cell_type": "code",
   "execution_count": 41,
   "metadata": {},
   "outputs": [
    {
     "data": {
      "text/html": [
       "<div>\n",
       "<style scoped>\n",
       "    .dataframe tbody tr th:only-of-type {\n",
       "        vertical-align: middle;\n",
       "    }\n",
       "\n",
       "    .dataframe tbody tr th {\n",
       "        vertical-align: top;\n",
       "    }\n",
       "\n",
       "    .dataframe thead tr th {\n",
       "        text-align: left;\n",
       "    }\n",
       "</style>\n",
       "<table border=\"1\" class=\"dataframe\">\n",
       "  <thead>\n",
       "    <tr>\n",
       "      <th></th>\n",
       "      <th colspan=\"2\" halign=\"left\">Expert #1</th>\n",
       "      <th colspan=\"2\" halign=\"left\">Expert #2</th>\n",
       "      <th colspan=\"2\" halign=\"left\">Expert #3</th>\n",
       "    </tr>\n",
       "    <tr>\n",
       "      <th></th>\n",
       "      <th>0</th>\n",
       "      <th>1</th>\n",
       "      <th>0</th>\n",
       "      <th>1</th>\n",
       "      <th>0</th>\n",
       "      <th>1</th>\n",
       "    </tr>\n",
       "  </thead>\n",
       "  <tbody>\n",
       "    <tr>\n",
       "      <th>Wine 1</th>\n",
       "      <td>-2.764432</td>\n",
       "      <td>-1.104812</td>\n",
       "      <td>-2.213928</td>\n",
       "      <td>-0.863519</td>\n",
       "      <td>-1.538106</td>\n",
       "      <td>0.442545</td>\n",
       "    </tr>\n",
       "    <tr>\n",
       "      <th>Wine 2</th>\n",
       "      <td>0.773034</td>\n",
       "      <td>0.298919</td>\n",
       "      <td>0.284247</td>\n",
       "      <td>-0.132135</td>\n",
       "      <td>0.613771</td>\n",
       "      <td>-0.759009</td>\n",
       "    </tr>\n",
       "    <tr>\n",
       "      <th>Wine 3</th>\n",
       "      <td>1.991398</td>\n",
       "      <td>0.805893</td>\n",
       "      <td>2.111508</td>\n",
       "      <td>0.499718</td>\n",
       "      <td>2.850084</td>\n",
       "      <td>-3.796390</td>\n",
       "    </tr>\n",
       "    <tr>\n",
       "      <th>Wine 4</th>\n",
       "      <td>1.981456</td>\n",
       "      <td>0.927187</td>\n",
       "      <td>2.393009</td>\n",
       "      <td>1.227146</td>\n",
       "      <td>1.123206</td>\n",
       "      <td>0.560803</td>\n",
       "    </tr>\n",
       "    <tr>\n",
       "      <th>Wine 5</th>\n",
       "      <td>-1.292834</td>\n",
       "      <td>-0.620661</td>\n",
       "      <td>-1.492114</td>\n",
       "      <td>-0.488088</td>\n",
       "      <td>-1.426414</td>\n",
       "      <td>1.273679</td>\n",
       "    </tr>\n",
       "    <tr>\n",
       "      <th>Wine 6</th>\n",
       "      <td>-0.688623</td>\n",
       "      <td>-0.306527</td>\n",
       "      <td>-1.082723</td>\n",
       "      <td>-0.243122</td>\n",
       "      <td>-1.622541</td>\n",
       "      <td>2.278372</td>\n",
       "    </tr>\n",
       "  </tbody>\n",
       "</table>\n",
       "</div>"
      ],
      "text/plain": [
       "       Expert #1           Expert #2           Expert #3          \n",
       "               0         1         0         1         0         1\n",
       "Wine 1 -2.764432 -1.104812 -2.213928 -0.863519 -1.538106  0.442545\n",
       "Wine 2  0.773034  0.298919  0.284247 -0.132135  0.613771 -0.759009\n",
       "Wine 3  1.991398  0.805893  2.111508  0.499718  2.850084 -3.796390\n",
       "Wine 4  1.981456  0.927187  2.393009  1.227146  1.123206  0.560803\n",
       "Wine 5 -1.292834 -0.620661 -1.492114 -0.488088 -1.426414  1.273679\n",
       "Wine 6 -0.688623 -0.306527 -1.082723 -0.243122 -1.622541  2.278372"
      ]
     },
     "execution_count": 41,
     "metadata": {},
     "output_type": "execute_result"
    }
   ],
   "source": [
    "mfa.partial_row_coordinates(X)"
   ]
  },
  {
   "cell_type": "markdown",
   "metadata": {},
   "source": [
    "plot_partial_row_coordinates permite visualizar la opinion de cada experto"
   ]
  },
  {
   "cell_type": "code",
   "execution_count": 188,
   "metadata": {},
   "outputs": [],
   "source": [
    "?mfa.plot_partial_row_coordinates"
   ]
  },
  {
   "cell_type": "code",
   "execution_count": 190,
   "metadata": {},
   "outputs": [
    {
     "data": {
      "image/png": "[encoded data removed]",
      "text/plain": [
       "<Figure size 432x432 with 1 Axes>"
      ]
     },
     "metadata": {
      "needs_background": "light"
     },
     "output_type": "display_data"
    }
   ],
   "source": [
    "ax = mfa.plot_partial_row_coordinates(\n",
    "    X,\n",
    "    ax=None,\n",
    "    figsize=(6, 6),\n",
    "    x_component=0,\n",
    "    y_component=1,\n",
    "    color_labels=['Oak type {}'.format(t) for t in X['Oak type']])"
   ]
  },
  {
   "cell_type": "code",
   "execution_count": 192,
   "metadata": {},
   "outputs": [
    {
     "data": {
      "text/html": [
       "<div>\n",
       "<style scoped>\n",
       "    .dataframe tbody tr th:only-of-type {\n",
       "        vertical-align: middle;\n",
       "    }\n",
       "\n",
       "    .dataframe tbody tr th {\n",
       "        vertical-align: top;\n",
       "    }\n",
       "\n",
       "    .dataframe thead tr th {\n",
       "        text-align: left;\n",
       "    }\n",
       "</style>\n",
       "<table border=\"1\" class=\"dataframe\">\n",
       "  <thead>\n",
       "    <tr>\n",
       "      <th></th>\n",
       "      <th colspan=\"2\" halign=\"left\">Expert #1</th>\n",
       "      <th colspan=\"2\" halign=\"left\">Expert #2</th>\n",
       "      <th colspan=\"2\" halign=\"left\">Expert #3</th>\n",
       "    </tr>\n",
       "    <tr>\n",
       "      <th></th>\n",
       "      <th>0</th>\n",
       "      <th>1</th>\n",
       "      <th>0</th>\n",
       "      <th>1</th>\n",
       "      <th>0</th>\n",
       "      <th>1</th>\n",
       "    </tr>\n",
       "  </thead>\n",
       "  <tbody>\n",
       "    <tr>\n",
       "      <th>Wine 1</th>\n",
       "      <td>-2.764432</td>\n",
       "      <td>-1.104812</td>\n",
       "      <td>-2.213928</td>\n",
       "      <td>-0.863519</td>\n",
       "      <td>-1.538106</td>\n",
       "      <td>0.442545</td>\n",
       "    </tr>\n",
       "    <tr>\n",
       "      <th>Wine 2</th>\n",
       "      <td>0.773034</td>\n",
       "      <td>0.298919</td>\n",
       "      <td>0.284247</td>\n",
       "      <td>-0.132135</td>\n",
       "      <td>0.613771</td>\n",
       "      <td>-0.759009</td>\n",
       "    </tr>\n",
       "    <tr>\n",
       "      <th>Wine 3</th>\n",
       "      <td>1.991398</td>\n",
       "      <td>0.805893</td>\n",
       "      <td>2.111508</td>\n",
       "      <td>0.499718</td>\n",
       "      <td>2.850084</td>\n",
       "      <td>-3.796390</td>\n",
       "    </tr>\n",
       "    <tr>\n",
       "      <th>Wine 4</th>\n",
       "      <td>1.981456</td>\n",
       "      <td>0.927187</td>\n",
       "      <td>2.393009</td>\n",
       "      <td>1.227146</td>\n",
       "      <td>1.123206</td>\n",
       "      <td>0.560803</td>\n",
       "    </tr>\n",
       "    <tr>\n",
       "      <th>Wine 5</th>\n",
       "      <td>-1.292834</td>\n",
       "      <td>-0.620661</td>\n",
       "      <td>-1.492114</td>\n",
       "      <td>-0.488088</td>\n",
       "      <td>-1.426414</td>\n",
       "      <td>1.273679</td>\n",
       "    </tr>\n",
       "    <tr>\n",
       "      <th>Wine 6</th>\n",
       "      <td>-0.688623</td>\n",
       "      <td>-0.306527</td>\n",
       "      <td>-1.082723</td>\n",
       "      <td>-0.243122</td>\n",
       "      <td>-1.622541</td>\n",
       "      <td>2.278372</td>\n",
       "    </tr>\n",
       "  </tbody>\n",
       "</table>\n",
       "</div>"
      ],
      "text/plain": [
       "       Expert #1           Expert #2           Expert #3          \n",
       "               0         1         0         1         0         1\n",
       "Wine 1 -2.764432 -1.104812 -2.213928 -0.863519 -1.538106  0.442545\n",
       "Wine 2  0.773034  0.298919  0.284247 -0.132135  0.613771 -0.759009\n",
       "Wine 3  1.991398  0.805893  2.111508  0.499718  2.850084 -3.796390\n",
       "Wine 4  1.981456  0.927187  2.393009  1.227146  1.123206  0.560803\n",
       "Wine 5 -1.292834 -0.620661 -1.492114 -0.488088 -1.426414  1.273679\n",
       "Wine 6 -0.688623 -0.306527 -1.082723 -0.243122 -1.622541  2.278372"
      ]
     },
     "execution_count": 192,
     "metadata": {},
     "output_type": "execute_result"
    }
   ],
   "source": [
    "mfa.partial_row_coordinates(X)"
   ]
  },
  {
   "cell_type": "code",
   "execution_count": 43,
   "metadata": {},
   "outputs": [
    {
     "data": {
      "text/plain": [
       "[2.834800672096379, 0.3568590491209077]"
      ]
     },
     "execution_count": 43,
     "metadata": {},
     "output_type": "execute_result"
    }
   ],
   "source": [
    "mfa.eigenvalues_"
   ]
  },
  {
   "cell_type": "code",
   "execution_count": 44,
   "metadata": {},
   "outputs": [
    {
     "data": {
      "text/plain": [
       "3.3530042099448787"
      ]
     },
     "execution_count": 44,
     "metadata": {},
     "output_type": "execute_result"
    }
   ],
   "source": [
    "mfa.total_inertia_"
   ]
  },
  {
   "cell_type": "code",
   "execution_count": 45,
   "metadata": {},
   "outputs": [
    {
     "data": {
      "text/plain": [
       "[0.8454509730970429, 0.10642964540947422]"
      ]
     },
     "execution_count": 45,
     "metadata": {},
     "output_type": "execute_result"
    }
   ],
   "source": [
    "mfa.explained_inertia_"
   ]
  },
  {
   "cell_type": "code",
   "execution_count": 48,
   "metadata": {},
   "outputs": [
    {
     "name": "stdout",
     "output_type": "stream",
     "text": [
      "Expert #1 inertia: [0.9541983544156208, 0.039945443174869213]\n",
      "Expert #2 inertia: [0.9127709835868826, 0.04853976454159999]\n",
      "Expert #3 inertia: [0.8268296179640892, 0.1470651449979216]\n"
     ]
    }
   ],
   "source": [
    "for name, fa in sorted(mfa.partial_factor_analysis_.items()): \n",
    "    print('{} inertia: {}'.format(name, fa.explained_inertia_))"
   ]
  }
 ],
 "metadata": {
  "kernelspec": {
   "display_name": "Python 3",
   "language": "python",
   "name": "python3"
  },
  "language_info": {
   "codemirror_mode": {
    "name": "ipython",
    "version": 3
   },
   "file_extension": ".py",
   "mimetype": "text/x-python",
   "name": "python",
   "nbconvert_exporter": "python",
   "pygments_lexer": "ipython3",
   "version": "3.8.3"
  }
 },
 "nbformat": 4,
 "nbformat_minor": 4
}
