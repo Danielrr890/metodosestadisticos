{
 "cells": [
  {
   "cell_type": "markdown",
   "metadata": {
    "colab_type": "text",
    "id": "kiGshKKAiCn5"
   },
   "source": [
    "# Análisis de componentes principales - ejemplos aclaradores\n",
    "\n",
    "**EJEMPLO 1** \n",
    "\n",
    "Iniciaremos con un ejercicio sencillo para una base de dos variables. Simularemos datos:\n"
   ]
  },
  {
   "cell_type": "code",
   "execution_count": 5,
   "metadata": {},
   "outputs": [
    {
     "name": "stdout",
     "output_type": "stream",
     "text": [
      "Requirement already satisfied: scikit-learn in /home/isaac/anaconda3/lib/python3.8/site-packages (0.23.2)\n",
      "Requirement already satisfied: threadpoolctl>=2.0.0 in /home/isaac/anaconda3/lib/python3.8/site-packages (from scikit-learn) (2.1.0)\n",
      "Requirement already satisfied: joblib>=0.11 in /home/isaac/anaconda3/lib/python3.8/site-packages (from scikit-learn) (1.0.0)\n",
      "Requirement already satisfied: numpy>=1.13.3 in /home/isaac/anaconda3/lib/python3.8/site-packages (from scikit-learn) (1.19.2)\n",
      "Requirement already satisfied: scipy>=0.19.1 in /home/isaac/anaconda3/lib/python3.8/site-packages (from scikit-learn) (1.6.0)\n",
      "Note: you may need to restart the kernel to use updated packages.\n"
     ]
    }
   ],
   "source": [
    "pip install scikit-learn"
   ]
  },
  {
   "cell_type": "code",
   "execution_count": 2,
   "metadata": {
    "colab": {},
    "colab_type": "code",
    "id": "k1wFshrmh0_f"
   },
   "outputs": [],
   "source": [
    "import numpy as np\n",
    "import pandas as pd\n",
    "\n",
    "from sklearn.decomposition import PCA\n",
    "from sklearn.preprocessing import StandardScaler\n"
   ]
  },
  {
   "cell_type": "code",
   "execution_count": 3,
   "metadata": {
    "colab": {},
    "colab_type": "code",
    "id": "aGc90luSieC9"
   },
   "outputs": [],
   "source": [
    "x=100*np.random.random_sample(50)"
   ]
  },
  {
   "cell_type": "code",
   "execution_count": 4,
   "metadata": {},
   "outputs": [
    {
     "data": {
      "text/plain": [
       "array([17.83560412, 42.62261443,  1.03706871, 66.79835266, 24.18221636,\n",
       "       27.13051736, 96.03354833, 13.13299483, 93.44862489,  3.13743853,\n",
       "       86.61875687,  1.48978241, 87.25975211, 79.2632328 , 43.91348266,\n",
       "       34.28697407, 56.57872328, 22.76067616,  2.08784546, 71.96526374,\n",
       "       64.04514584, 31.82097101, 10.55073784, 82.10805372, 46.43437436,\n",
       "       23.51933097, 44.68374145, 68.98251658, 86.08299614, 22.73191026,\n",
       "       10.77467334, 87.5240382 , 21.57482915,  2.13697306, 27.69422227,\n",
       "       26.25683477,  1.26185121, 75.79835371, 80.92555595, 76.47266348,\n",
       "       52.69751823,  7.85718193, 12.18520785, 33.81544333, 19.21205823,\n",
       "       99.21754838, 46.31529398, 70.16117907, 98.84835641, 21.49168501])"
      ]
     },
     "execution_count": 4,
     "metadata": {},
     "output_type": "execute_result"
    }
   ],
   "source": [
    "x"
   ]
  },
  {
   "cell_type": "code",
   "execution_count": 7,
   "metadata": {
    "colab": {},
    "colab_type": "code",
    "id": "vLrPNVXSizJ2"
   },
   "outputs": [],
   "source": [
    "y=-2*x+200 +30*np.random.random_sample(50)"
   ]
  },
  {
   "cell_type": "code",
   "execution_count": 8,
   "metadata": {},
   "outputs": [],
   "source": [
    "x1=np.arange(0,100,0.1)"
   ]
  },
  {
   "cell_type": "code",
   "execution_count": 9,
   "metadata": {},
   "outputs": [],
   "source": [
    "y1=-2*x1+200"
   ]
  },
  {
   "cell_type": "code",
   "execution_count": 10,
   "metadata": {
    "colab": {},
    "colab_type": "code",
    "id": "wWCI2uvOjB_v"
   },
   "outputs": [],
   "source": [
    "import matplotlib.pyplot as plt"
   ]
  },
  {
   "cell_type": "code",
   "execution_count": 11,
   "metadata": {
    "colab": {
     "base_uri": "https://localhost:8080/",
     "height": 295
    },
    "colab_type": "code",
    "id": "eoF5wRjYjKS9",
    "outputId": "534671e0-2a0f-4b4c-c846-afa8f9b94c5b"
   },
   "outputs": [
    {
     "data": {
      "image/png": "[encoded data removed]",
      "text/plain": [
       "<Figure size 432x288 with 1 Axes>"
      ]
     },
     "metadata": {
      "needs_background": "light"
     },
     "output_type": "display_data"
    }
   ],
   "source": [
    "plt.scatter(x, y, s=10, c='red', alpha=0.5)\n",
    "plt.plot(x1,y1)\n",
    "plt.title('Ejercicio 1')\n",
    "plt.xlabel('x')\n",
    "plt.ylabel('y')\n",
    "plt.show()\n"
   ]
  },
  {
   "cell_type": "code",
   "execution_count": 39,
   "metadata": {
    "colab": {
     "base_uri": "https://localhost:8080/",
     "height": 295
    },
    "colab_type": "code",
    "id": "LRAKFj-cjPWl",
    "outputId": "6387b117-dcab-49d9-ebcb-5622f2dc8c5f"
   },
   "outputs": [
    {
     "data": {
      "text/html": [
       "<div>\n",
       "<style scoped>\n",
       "    .dataframe tbody tr th:only-of-type {\n",
       "        vertical-align: middle;\n",
       "    }\n",
       "\n",
       "    .dataframe tbody tr th {\n",
       "        vertical-align: top;\n",
       "    }\n",
       "\n",
       "    .dataframe thead th {\n",
       "        text-align: right;\n",
       "    }\n",
       "</style>\n",
       "<table border=\"1\" class=\"dataframe\">\n",
       "  <thead>\n",
       "    <tr style=\"text-align: right;\">\n",
       "      <th></th>\n",
       "      <th>x</th>\n",
       "      <th>y</th>\n",
       "    </tr>\n",
       "  </thead>\n",
       "  <tbody>\n",
       "    <tr>\n",
       "      <th>count</th>\n",
       "      <td>50.000000</td>\n",
       "      <td>50.000000</td>\n",
       "    </tr>\n",
       "    <tr>\n",
       "      <th>mean</th>\n",
       "      <td>50.924886</td>\n",
       "      <td>99.381764</td>\n",
       "    </tr>\n",
       "    <tr>\n",
       "      <th>std</th>\n",
       "      <td>26.273587</td>\n",
       "      <td>54.839361</td>\n",
       "    </tr>\n",
       "    <tr>\n",
       "      <th>min</th>\n",
       "      <td>0.985781</td>\n",
       "      <td>-2.827457</td>\n",
       "    </tr>\n",
       "    <tr>\n",
       "      <th>25%</th>\n",
       "      <td>31.325529</td>\n",
       "      <td>51.124507</td>\n",
       "    </tr>\n",
       "    <tr>\n",
       "      <th>50%</th>\n",
       "      <td>46.783545</td>\n",
       "      <td>93.830379</td>\n",
       "    </tr>\n",
       "    <tr>\n",
       "      <th>75%</th>\n",
       "      <td>70.636560</td>\n",
       "      <td>146.215208</td>\n",
       "    </tr>\n",
       "    <tr>\n",
       "      <th>max</th>\n",
       "      <td>94.126487</td>\n",
       "      <td>201.752645</td>\n",
       "    </tr>\n",
       "  </tbody>\n",
       "</table>\n",
       "</div>"
      ],
      "text/plain": [
       "               x           y\n",
       "count  50.000000   50.000000\n",
       "mean   50.924886   99.381764\n",
       "std    26.273587   54.839361\n",
       "min     0.985781   -2.827457\n",
       "25%    31.325529   51.124507\n",
       "50%    46.783545   93.830379\n",
       "75%    70.636560  146.215208\n",
       "max    94.126487  201.752645"
      ]
     },
     "execution_count": 39,
     "metadata": {},
     "output_type": "execute_result"
    }
   ],
   "source": [
    "DF=pd.DataFrame(np.transpose(np.array([x,y])),columns=['x','y'])\n",
    "DF.describe()"
   ]
  },
  {
   "cell_type": "code",
   "execution_count": 40,
   "metadata": {
    "colab": {
     "base_uri": "https://localhost:8080/",
     "height": 86
    },
    "colab_type": "code",
    "id": "SfLom_p3kRNJ",
    "outputId": "d1483e9d-8ca1-42a2-ea05-286acf3707b6"
   },
   "outputs": [
    {
     "data": {
      "text/plain": [
       "[-1.7985612998927537e-16, 2.2204460492503132e-17, 1.0, 1.0]"
      ]
     },
     "execution_count": 40,
     "metadata": {},
     "output_type": "execute_result"
    }
   ],
   "source": [
    "scaler = StandardScaler()\n",
    "DFT = scaler.fit_transform(DF)\n",
    "[DFT[:,0].mean(),DFT[:,1].mean(),DFT[:,0].std(),DFT[:,1].std()]"
   ]
  },
  {
   "cell_type": "code",
   "execution_count": 44,
   "metadata": {},
   "outputs": [
    {
     "data": {
      "text/html": [
       "<div>\n",
       "<style scoped>\n",
       "    .dataframe tbody tr th:only-of-type {\n",
       "        vertical-align: middle;\n",
       "    }\n",
       "\n",
       "    .dataframe tbody tr th {\n",
       "        vertical-align: top;\n",
       "    }\n",
       "\n",
       "    .dataframe thead th {\n",
       "        text-align: right;\n",
       "    }\n",
       "</style>\n",
       "<table border=\"1\" class=\"dataframe\">\n",
       "  <thead>\n",
       "    <tr style=\"text-align: right;\">\n",
       "      <th></th>\n",
       "      <th>x_std</th>\n",
       "      <th>y_std</th>\n",
       "    </tr>\n",
       "  </thead>\n",
       "  <tbody>\n",
       "    <tr>\n",
       "      <th>count</th>\n",
       "      <td>5.000000e+01</td>\n",
       "      <td>50.000000</td>\n",
       "    </tr>\n",
       "    <tr>\n",
       "      <th>mean</th>\n",
       "      <td>-1.487699e-16</td>\n",
       "      <td>0.000000</td>\n",
       "    </tr>\n",
       "    <tr>\n",
       "      <th>std</th>\n",
       "      <td>1.010153e+00</td>\n",
       "      <td>1.010153</td>\n",
       "    </tr>\n",
       "    <tr>\n",
       "      <th>min</th>\n",
       "      <td>-1.920032e+00</td>\n",
       "      <td>-1.882715</td>\n",
       "    </tr>\n",
       "    <tr>\n",
       "      <th>25%</th>\n",
       "      <td>-7.535454e-01</td>\n",
       "      <td>-0.888909</td>\n",
       "    </tr>\n",
       "    <tr>\n",
       "      <th>50%</th>\n",
       "      <td>-1.592240e-01</td>\n",
       "      <td>-0.102258</td>\n",
       "    </tr>\n",
       "    <tr>\n",
       "      <th>75%</th>\n",
       "      <td>7.578637e-01</td>\n",
       "      <td>0.862682</td>\n",
       "    </tr>\n",
       "    <tr>\n",
       "      <th>max</th>\n",
       "      <td>1.660992e+00</td>\n",
       "      <td>1.885693</td>\n",
       "    </tr>\n",
       "  </tbody>\n",
       "</table>\n",
       "</div>"
      ],
      "text/plain": [
       "              x_std      y_std\n",
       "count  5.000000e+01  50.000000\n",
       "mean  -1.487699e-16   0.000000\n",
       "std    1.010153e+00   1.010153\n",
       "min   -1.920032e+00  -1.882715\n",
       "25%   -7.535454e-01  -0.888909\n",
       "50%   -1.592240e-01  -0.102258\n",
       "75%    7.578637e-01   0.862682\n",
       "max    1.660992e+00   1.885693"
      ]
     },
     "execution_count": 44,
     "metadata": {},
     "output_type": "execute_result"
    }
   ],
   "source": [
    "pd.DataFrame(data=DFT,columns=['x_std','y_std']).describe()"
   ]
  },
  {
   "cell_type": "code",
   "execution_count": 45,
   "metadata": {},
   "outputs": [
    {
     "data": {
      "text/plain": [
       "array([[ 1.66099164, -1.88271532],\n",
       "       [ 0.3960644 , -0.72815179],\n",
       "       [-0.24344861,  0.63766614],\n",
       "       [-0.94185263,  1.13824015],\n",
       "       [ 0.40466401, -0.58502288],\n",
       "       [ 0.52454405, -0.86244274],\n",
       "       [ 1.10392926, -1.0513262 ],\n",
       "       [ 0.75794682, -0.42731952],\n",
       "       [-0.38653953,  0.30408641],\n",
       "       [-0.03851481,  0.41043602],\n",
       "       [-1.1600044 ,  1.32806216],\n",
       "       [-1.81902363,  1.88569314],\n",
       "       [ 1.05677366, -0.99294211],\n",
       "       [-0.24159724,  0.29722807],\n",
       "       [ 0.69388863, -0.76138006],\n",
       "       [-1.9200315 ,  1.84434394],\n",
       "       [ 1.5884689 , -1.56510937],\n",
       "       [-1.19101567,  1.47954278],\n",
       "       [ 1.47101383, -1.25429372],\n",
       "       [ 0.66771503, -0.89997643],\n",
       "       [ 1.55719754, -1.41899435],\n",
       "       [ 1.29451381, -0.98368515],\n",
       "       [ 0.87278319, -0.85181381],\n",
       "       [-0.32790109, -0.1405896 ],\n",
       "       [ 0.35122934, -0.26548923],\n",
       "       [-0.77874774,  0.88049466],\n",
       "       [-0.56487812,  0.88062394],\n",
       "       [ 1.49008146, -1.38427792],\n",
       "       [-1.8610762 ,  1.7751291 ],\n",
       "       [-1.07209399,  0.99825109],\n",
       "       [-0.26726631, -0.06392574],\n",
       "       [-0.51129973,  0.44892424],\n",
       "       [ 0.44548149, -0.48221827],\n",
       "       [-0.98187896,  0.78216161],\n",
       "       [-0.07685078, -0.20041375],\n",
       "       [-0.72371792,  0.60249353],\n",
       "       [-1.67749053,  1.35861551],\n",
       "       [-0.67974718,  0.49871905],\n",
       "       [ 0.75761428, -0.99786473],\n",
       "       [ 0.28214276, -0.26843033],\n",
       "       [ 1.29609962, -0.89773083],\n",
       "       [ 0.48294703, -0.4955775 ],\n",
       "       [ 1.29071201, -1.28316247],\n",
       "       [-0.76348789,  0.80924357],\n",
       "       [-0.83103461,  0.92188762],\n",
       "       [-0.37483485,  0.16139697],\n",
       "       [-1.17809887,  1.23608355],\n",
       "       [ 1.19365537, -1.16405567],\n",
       "       [-0.33398084,  0.22984884],\n",
       "       [-0.69404449,  0.9997374 ]])"
      ]
     },
     "execution_count": 45,
     "metadata": {},
     "output_type": "execute_result"
    }
   ],
   "source": [
    "DFT"
   ]
  },
  {
   "cell_type": "code",
   "execution_count": 47,
   "metadata": {},
   "outputs": [
    {
     "data": {
      "text/plain": [
       "<matplotlib.collections.PathCollection at 0x7f6d751b9250>"
      ]
     },
     "execution_count": 47,
     "metadata": {},
     "output_type": "execute_result"
    },
    {
     "data": {
      "image/png": "[encoded data removed]",
      "text/plain": [
       "<Figure size 432x288 with 1 Axes>"
      ]
     },
     "metadata": {
      "needs_background": "light"
     },
     "output_type": "display_data"
    }
   ],
   "source": [
    "plt.scatter(DFT.T[0],DFT.T[1])"
   ]
  },
  {
   "cell_type": "code",
   "execution_count": 61,
   "metadata": {
    "colab": {
     "base_uri": "https://localhost:8080/",
     "height": 295
    },
    "colab_type": "code",
    "id": "MNhjVhwKkass",
    "outputId": "a6822e6f-397b-4b16-d5de-233c6392aa9a"
   },
   "outputs": [
    {
     "data": {
      "text/html": [
       "<div>\n",
       "<style scoped>\n",
       "    .dataframe tbody tr th:only-of-type {\n",
       "        vertical-align: middle;\n",
       "    }\n",
       "\n",
       "    .dataframe tbody tr th {\n",
       "        vertical-align: top;\n",
       "    }\n",
       "\n",
       "    .dataframe thead th {\n",
       "        text-align: right;\n",
       "    }\n",
       "</style>\n",
       "<table border=\"1\" class=\"dataframe\">\n",
       "  <thead>\n",
       "    <tr style=\"text-align: right;\">\n",
       "      <th></th>\n",
       "      <th>PC1</th>\n",
       "      <th>PC2</th>\n",
       "      <th>3</th>\n",
       "    </tr>\n",
       "  </thead>\n",
       "  <tbody>\n",
       "    <tr>\n",
       "      <th>0</th>\n",
       "      <td>-2.505779</td>\n",
       "      <td>0.156782</td>\n",
       "      <td>0</td>\n",
       "    </tr>\n",
       "    <tr>\n",
       "      <th>1</th>\n",
       "      <td>-0.794941</td>\n",
       "      <td>0.234821</td>\n",
       "      <td>0</td>\n",
       "    </tr>\n",
       "    <tr>\n",
       "      <th>2</th>\n",
       "      <td>0.623042</td>\n",
       "      <td>-0.278754</td>\n",
       "      <td>0</td>\n",
       "    </tr>\n",
       "    <tr>\n",
       "      <th>3</th>\n",
       "      <td>1.470848</td>\n",
       "      <td>-0.138867</td>\n",
       "      <td>0</td>\n",
       "    </tr>\n",
       "    <tr>\n",
       "      <th>4</th>\n",
       "      <td>-0.699814</td>\n",
       "      <td>0.127533</td>\n",
       "      <td>0</td>\n",
       "    </tr>\n",
       "    <tr>\n",
       "      <th>5</th>\n",
       "      <td>-0.980748</td>\n",
       "      <td>0.238930</td>\n",
       "      <td>0</td>\n",
       "    </tr>\n",
       "    <tr>\n",
       "      <th>6</th>\n",
       "      <td>-1.523996</td>\n",
       "      <td>-0.037196</td>\n",
       "      <td>0</td>\n",
       "    </tr>\n",
       "    <tr>\n",
       "      <th>7</th>\n",
       "      <td>-0.838110</td>\n",
       "      <td>-0.233789</td>\n",
       "      <td>0</td>\n",
       "    </tr>\n",
       "    <tr>\n",
       "      <th>8</th>\n",
       "      <td>0.488346</td>\n",
       "      <td>0.058303</td>\n",
       "      <td>0</td>\n",
       "    </tr>\n",
       "    <tr>\n",
       "      <th>9</th>\n",
       "      <td>0.317456</td>\n",
       "      <td>-0.262988</td>\n",
       "      <td>0</td>\n",
       "    </tr>\n",
       "    <tr>\n",
       "      <th>10</th>\n",
       "      <td>1.759329</td>\n",
       "      <td>-0.118835</td>\n",
       "      <td>0</td>\n",
       "    </tr>\n",
       "    <tr>\n",
       "      <th>11</th>\n",
       "      <td>2.619630</td>\n",
       "      <td>-0.047142</td>\n",
       "      <td>0</td>\n",
       "    </tr>\n",
       "    <tr>\n",
       "      <th>12</th>\n",
       "      <td>-1.449368</td>\n",
       "      <td>-0.045136</td>\n",
       "      <td>0</td>\n",
       "    </tr>\n",
       "    <tr>\n",
       "      <th>13</th>\n",
       "      <td>0.381007</td>\n",
       "      <td>-0.039337</td>\n",
       "      <td>0</td>\n",
       "    </tr>\n",
       "    <tr>\n",
       "      <th>14</th>\n",
       "      <td>-1.029030</td>\n",
       "      <td>0.047724</td>\n",
       "      <td>0</td>\n",
       "    </tr>\n",
       "    <tr>\n",
       "      <th>15</th>\n",
       "      <td>2.661815</td>\n",
       "      <td>0.053519</td>\n",
       "      <td>0</td>\n",
       "    </tr>\n",
       "    <tr>\n",
       "      <th>16</th>\n",
       "      <td>-2.229917</td>\n",
       "      <td>-0.016518</td>\n",
       "      <td>0</td>\n",
       "    </tr>\n",
       "    <tr>\n",
       "      <th>17</th>\n",
       "      <td>1.888370</td>\n",
       "      <td>-0.204019</td>\n",
       "      <td>0</td>\n",
       "    </tr>\n",
       "    <tr>\n",
       "      <th>18</th>\n",
       "      <td>-1.927083</td>\n",
       "      <td>-0.153244</td>\n",
       "      <td>0</td>\n",
       "    </tr>\n",
       "    <tr>\n",
       "      <th>19</th>\n",
       "      <td>-1.108525</td>\n",
       "      <td>0.164234</td>\n",
       "      <td>0</td>\n",
       "    </tr>\n",
       "    <tr>\n",
       "      <th>20</th>\n",
       "      <td>-2.104485</td>\n",
       "      <td>-0.097724</td>\n",
       "      <td>0</td>\n",
       "    </tr>\n",
       "    <tr>\n",
       "      <th>21</th>\n",
       "      <td>-1.610930</td>\n",
       "      <td>-0.219789</td>\n",
       "      <td>0</td>\n",
       "    </tr>\n",
       "    <tr>\n",
       "      <th>22</th>\n",
       "      <td>-1.219474</td>\n",
       "      <td>-0.014828</td>\n",
       "      <td>0</td>\n",
       "    </tr>\n",
       "    <tr>\n",
       "      <th>23</th>\n",
       "      <td>0.132449</td>\n",
       "      <td>0.331273</td>\n",
       "      <td>0</td>\n",
       "    </tr>\n",
       "    <tr>\n",
       "      <th>24</th>\n",
       "      <td>-0.436086</td>\n",
       "      <td>-0.060627</td>\n",
       "      <td>0</td>\n",
       "    </tr>\n",
       "    <tr>\n",
       "      <th>25</th>\n",
       "      <td>1.173262</td>\n",
       "      <td>-0.071946</td>\n",
       "      <td>0</td>\n",
       "    </tr>\n",
       "    <tr>\n",
       "      <th>26</th>\n",
       "      <td>1.022124</td>\n",
       "      <td>-0.223266</td>\n",
       "      <td>0</td>\n",
       "    </tr>\n",
       "    <tr>\n",
       "      <th>27</th>\n",
       "      <td>-2.032479</td>\n",
       "      <td>-0.074814</td>\n",
       "      <td>0</td>\n",
       "    </tr>\n",
       "    <tr>\n",
       "      <th>28</th>\n",
       "      <td>2.571185</td>\n",
       "      <td>0.060774</td>\n",
       "      <td>0</td>\n",
       "    </tr>\n",
       "    <tr>\n",
       "      <th>29</th>\n",
       "      <td>1.463955</td>\n",
       "      <td>0.052215</td>\n",
       "      <td>0</td>\n",
       "    </tr>\n",
       "    <tr>\n",
       "      <th>30</th>\n",
       "      <td>0.143783</td>\n",
       "      <td>0.234188</td>\n",
       "      <td>0</td>\n",
       "    </tr>\n",
       "    <tr>\n",
       "      <th>31</th>\n",
       "      <td>0.678981</td>\n",
       "      <td>0.044106</td>\n",
       "      <td>0</td>\n",
       "    </tr>\n",
       "    <tr>\n",
       "      <th>32</th>\n",
       "      <td>-0.655983</td>\n",
       "      <td>0.025977</td>\n",
       "      <td>0</td>\n",
       "    </tr>\n",
       "    <tr>\n",
       "      <th>33</th>\n",
       "      <td>1.247365</td>\n",
       "      <td>0.141221</td>\n",
       "      <td>0</td>\n",
       "    </tr>\n",
       "    <tr>\n",
       "      <th>34</th>\n",
       "      <td>-0.087372</td>\n",
       "      <td>0.196056</td>\n",
       "      <td>0</td>\n",
       "    </tr>\n",
       "    <tr>\n",
       "      <th>35</th>\n",
       "      <td>0.937773</td>\n",
       "      <td>0.085719</td>\n",
       "      <td>0</td>\n",
       "    </tr>\n",
       "    <tr>\n",
       "      <th>36</th>\n",
       "      <td>2.146851</td>\n",
       "      <td>0.225479</td>\n",
       "      <td>0</td>\n",
       "    </tr>\n",
       "    <tr>\n",
       "      <th>37</th>\n",
       "      <td>0.833301</td>\n",
       "      <td>0.128006</td>\n",
       "      <td>0</td>\n",
       "    </tr>\n",
       "    <tr>\n",
       "      <th>38</th>\n",
       "      <td>-1.241311</td>\n",
       "      <td>0.169883</td>\n",
       "      <td>0</td>\n",
       "    </tr>\n",
       "    <tr>\n",
       "      <th>39</th>\n",
       "      <td>-0.389314</td>\n",
       "      <td>-0.009696</td>\n",
       "      <td>0</td>\n",
       "    </tr>\n",
       "    <tr>\n",
       "      <th>40</th>\n",
       "      <td>-1.551272</td>\n",
       "      <td>-0.281689</td>\n",
       "      <td>0</td>\n",
       "    </tr>\n",
       "    <tr>\n",
       "      <th>41</th>\n",
       "      <td>-0.691921</td>\n",
       "      <td>0.008931</td>\n",
       "      <td>0</td>\n",
       "    </tr>\n",
       "    <tr>\n",
       "      <th>42</th>\n",
       "      <td>-1.820004</td>\n",
       "      <td>-0.005338</td>\n",
       "      <td>0</td>\n",
       "    </tr>\n",
       "    <tr>\n",
       "      <th>43</th>\n",
       "      <td>1.112089</td>\n",
       "      <td>-0.032354</td>\n",
       "      <td>0</td>\n",
       "    </tr>\n",
       "    <tr>\n",
       "      <th>44</th>\n",
       "      <td>1.239503</td>\n",
       "      <td>-0.064243</td>\n",
       "      <td>0</td>\n",
       "    </tr>\n",
       "    <tr>\n",
       "      <th>45</th>\n",
       "      <td>0.379173</td>\n",
       "      <td>0.150923</td>\n",
       "      <td>0</td>\n",
       "    </tr>\n",
       "    <tr>\n",
       "      <th>46</th>\n",
       "      <td>1.707085</td>\n",
       "      <td>-0.041001</td>\n",
       "      <td>0</td>\n",
       "    </tr>\n",
       "    <tr>\n",
       "      <th>47</th>\n",
       "      <td>-1.667153</td>\n",
       "      <td>-0.020930</td>\n",
       "      <td>0</td>\n",
       "    </tr>\n",
       "    <tr>\n",
       "      <th>48</th>\n",
       "      <td>0.398688</td>\n",
       "      <td>0.073632</td>\n",
       "      <td>0</td>\n",
       "    </tr>\n",
       "    <tr>\n",
       "      <th>49</th>\n",
       "      <td>1.197685</td>\n",
       "      <td>-0.216158</td>\n",
       "      <td>0</td>\n",
       "    </tr>\n",
       "  </tbody>\n",
       "</table>\n",
       "</div>"
      ],
      "text/plain": [
       "         PC1       PC2  3\n",
       "0  -2.505779  0.156782  0\n",
       "1  -0.794941  0.234821  0\n",
       "2   0.623042 -0.278754  0\n",
       "3   1.470848 -0.138867  0\n",
       "4  -0.699814  0.127533  0\n",
       "5  -0.980748  0.238930  0\n",
       "6  -1.523996 -0.037196  0\n",
       "7  -0.838110 -0.233789  0\n",
       "8   0.488346  0.058303  0\n",
       "9   0.317456 -0.262988  0\n",
       "10  1.759329 -0.118835  0\n",
       "11  2.619630 -0.047142  0\n",
       "12 -1.449368 -0.045136  0\n",
       "13  0.381007 -0.039337  0\n",
       "14 -1.029030  0.047724  0\n",
       "15  2.661815  0.053519  0\n",
       "16 -2.229917 -0.016518  0\n",
       "17  1.888370 -0.204019  0\n",
       "18 -1.927083 -0.153244  0\n",
       "19 -1.108525  0.164234  0\n",
       "20 -2.104485 -0.097724  0\n",
       "21 -1.610930 -0.219789  0\n",
       "22 -1.219474 -0.014828  0\n",
       "23  0.132449  0.331273  0\n",
       "24 -0.436086 -0.060627  0\n",
       "25  1.173262 -0.071946  0\n",
       "26  1.022124 -0.223266  0\n",
       "27 -2.032479 -0.074814  0\n",
       "28  2.571185  0.060774  0\n",
       "29  1.463955  0.052215  0\n",
       "30  0.143783  0.234188  0\n",
       "31  0.678981  0.044106  0\n",
       "32 -0.655983  0.025977  0\n",
       "33  1.247365  0.141221  0\n",
       "34 -0.087372  0.196056  0\n",
       "35  0.937773  0.085719  0\n",
       "36  2.146851  0.225479  0\n",
       "37  0.833301  0.128006  0\n",
       "38 -1.241311  0.169883  0\n",
       "39 -0.389314 -0.009696  0\n",
       "40 -1.551272 -0.281689  0\n",
       "41 -0.691921  0.008931  0\n",
       "42 -1.820004 -0.005338  0\n",
       "43  1.112089 -0.032354  0\n",
       "44  1.239503 -0.064243  0\n",
       "45  0.379173  0.150923  0\n",
       "46  1.707085 -0.041001  0\n",
       "47 -1.667153 -0.020930  0\n",
       "48  0.398688  0.073632  0\n",
       "49  1.197685 -0.216158  0"
      ]
     },
     "execution_count": 61,
     "metadata": {},
     "output_type": "execute_result"
    }
   ],
   "source": [
    "pca = PCA(n_components=2)\n",
    "principal_components = pca.fit_transform(DFT)\n",
    "DFPC = pd.DataFrame(data = principal_components, columns = ['PC1', 'PC2'])\n",
    "DFPC['3']=0\n",
    "DFPC"
   ]
  },
  {
   "cell_type": "code",
   "execution_count": 54,
   "metadata": {},
   "outputs": [
    {
     "data": {
      "text/plain": [
       "array([-2.50577922, -0.7949409 ,  0.62304221,  1.47084771, -0.69981431,\n",
       "       -0.98074777, -1.52399575, -0.83810987,  0.48834628,  0.31745618,\n",
       "        1.75932873,  2.61963035, -1.44936793,  0.38100703, -1.02903036,\n",
       "        2.66181541, -2.22991658,  1.88836999, -1.92708345, -1.10852526,\n",
       "       -2.10448547, -1.61092993, -1.21947423,  0.13244923, -0.43608588,\n",
       "        1.17326155,  1.0221243 , -2.03247901,  2.57118543,  1.46395504,\n",
       "        0.1437835 ,  0.67898088, -0.65598279,  1.24736504, -0.08737221,\n",
       "        0.93777311,  2.14685117,  0.83330146, -1.24131111, -0.38931396,\n",
       "       -1.55127239, -0.69192133, -1.8200041 ,  1.11208908,  1.2395032 ,\n",
       "        0.37917316,  1.70708476, -1.66715346,  0.39868779,  1.19768466])"
      ]
     },
     "execution_count": 54,
     "metadata": {},
     "output_type": "execute_result"
    }
   ],
   "source": [
    "DFPC.values.T[0]"
   ]
  },
  {
   "cell_type": "code",
   "execution_count": 64,
   "metadata": {},
   "outputs": [
    {
     "data": {
      "text/plain": [
       "(-2.7641589516728113,\n",
       " 2.920195137990023,\n",
       " -0.3123373866293444,\n",
       " 0.3619210562113982)"
      ]
     },
     "execution_count": 64,
     "metadata": {},
     "output_type": "execute_result"
    },
    {
     "data": {
      "image/png": "[encoded data removed]",
      "text/plain": [
       "<Figure size 432x288 with 1 Axes>"
      ]
     },
     "metadata": {
      "needs_background": "light"
     },
     "output_type": "display_data"
    }
   ],
   "source": [
    "plt.scatter(DFPC.values.T[0],DFPC.values.T[1])\n",
    "plt.axis('equal')"
   ]
  },
  {
   "cell_type": "code",
   "execution_count": 63,
   "metadata": {},
   "outputs": [
    {
     "data": {
      "text/plain": [
       "(-2.7641589516728113,\n",
       " 2.920195137990023,\n",
       " -0.05500000000000001,\n",
       " 0.05500000000000001)"
      ]
     },
     "execution_count": 63,
     "metadata": {},
     "output_type": "execute_result"
    },
    {
     "data": {
      "image/png": "[encoded data removed]",
      "text/plain": [
       "<Figure size 432x288 with 1 Axes>"
      ]
     },
     "metadata": {
      "needs_background": "light"
     },
     "output_type": "display_data"
    }
   ],
   "source": [
    "plt.scatter(DFPC.values.T[0],DFPC.values.T[2])\n",
    "plt.axis('equal')"
   ]
  },
  {
   "cell_type": "code",
   "execution_count": 57,
   "metadata": {
    "colab": {
     "base_uri": "https://localhost:8080/",
     "height": 34
    },
    "colab_type": "code",
    "id": "n-IffBWew1L0",
    "outputId": "05635db2-4237-44a9-aad7-96fb36cace31"
   },
   "outputs": [
    {
     "data": {
      "text/plain": [
       "array([98.9,  1.1])"
      ]
     },
     "execution_count": 57,
     "metadata": {},
     "output_type": "execute_result"
    }
   ],
   "source": [
    "per_var = np.round(pca.explained_variance_ratio_ * 100, decimals=1)\n",
    "per_var"
   ]
  },
  {
   "cell_type": "code",
   "execution_count": 58,
   "metadata": {
    "colab": {
     "base_uri": "https://localhost:8080/",
     "height": 51
    },
    "colab_type": "code",
    "id": "D90zYQFSxESl",
    "outputId": "59ef28ff-79d4-4871-e9ba-d74f8498e77f"
   },
   "outputs": [
    {
     "data": {
      "text/plain": [
       "array([[ 1.02040816, -0.99763936],\n",
       "       [-0.99763936,  1.02040816]])"
      ]
     },
     "execution_count": 58,
     "metadata": {},
     "output_type": "execute_result"
    }
   ],
   "source": [
    "COV=np.cov(np.transpose(DFT))\n",
    "COV"
   ]
  },
  {
   "cell_type": "code",
   "execution_count": 59,
   "metadata": {
    "colab": {
     "base_uri": "https://localhost:8080/",
     "height": 51
    },
    "colab_type": "code",
    "id": "Rz1CMmtlxsVe",
    "outputId": "675de7fa-e522-46b1-ec2d-f176de49e2da"
   },
   "outputs": [
    {
     "data": {
      "text/plain": [
       "(array([0.02276881, 2.01804752]),\n",
       " array([[-0.70710678,  0.70710678],\n",
       "        [-0.70710678, -0.70710678]]))"
      ]
     },
     "execution_count": 59,
     "metadata": {},
     "output_type": "execute_result"
    }
   ],
   "source": [
    "np.linalg.eig(COV)"
   ]
  },
  {
   "cell_type": "code",
   "execution_count": 60,
   "metadata": {
    "colab": {},
    "colab_type": "code",
    "id": "GeD-GtNPzOeK"
   },
   "outputs": [],
   "source": [
    "def draw_vector(v0, v1, ax=None):\n",
    "    ax = ax or plt.gca()\n",
    "    arrowprops=dict(arrowstyle='->',\n",
    "                    linewidth=2,\n",
    "                    shrinkA=0, shrinkB=0)\n",
    "    ax.annotate('', v1, v0, arrowprops=arrowprops)"
   ]
  },
  {
   "cell_type": "code",
   "execution_count": null,
   "metadata": {
    "colab": {
     "base_uri": "https://localhost:8080/",
     "height": 334
    },
    "colab_type": "code",
    "id": "It04dx4_zfTx",
    "outputId": "73463d64-48cd-4ed7-ae4b-7e272164a919"
   },
   "outputs": [
    {
     "name": "stdout",
     "output_type": "stream",
     "text": [
      "[-0.70710678  0.70710678]\n",
      "2.0274125257627853\n",
      "[0.70710678 0.70710678]\n",
      "0.013403800767826162\n"
     ]
    },
    {
     "data": {
      "image/png": "[encoded data removed]",
      "text/plain": [
       "<Figure size 432x288 with 1 Axes>"
      ]
     },
     "metadata": {
      "tags": []
     },
     "output_type": "display_data"
    }
   ],
   "source": [
    "plt.scatter(DFT[:,0],DFT[:,1], alpha=0.5)\n",
    "L2=[2,0.3]\n",
    "i=0\n",
    "for length, vector in zip(pca.explained_variance_, pca.components_):\n",
    "  print(vector)\n",
    "  print(length)\n",
    "  v = vector*L2[i]\n",
    "  i=+1\n",
    "  draw_vector(pca.mean_, pca.mean_ + v)\n",
    "plt.axis('equal')\n",
    "plt.show()"
   ]
  },
  {
   "cell_type": "code",
   "execution_count": null,
   "metadata": {
    "colab": {
     "base_uri": "https://localhost:8080/",
     "height": 334
    },
    "colab_type": "code",
    "id": "V1KhZunCYg9v",
    "outputId": "d3ac8342-7215-40a0-f0e0-e4f2e0ba296d"
   },
   "outputs": [
    {
     "data": {
      "text/plain": [
       "(-2.501106078678592,\n",
       " 3.030292248510219,\n",
       " -0.2102697173960261,\n",
       " 0.22108006172918448)"
      ]
     },
     "execution_count": 53,
     "metadata": {
      "tags": []
     },
     "output_type": "execute_result"
    },
    {
     "data": {
      "image/png": "[encoded data removed]",
      "text/plain": [
       "<Figure size 432x288 with 1 Axes>"
      ]
     },
     "metadata": {
      "tags": []
     },
     "output_type": "display_data"
    }
   ],
   "source": [
    "DFPC.values\n",
    "plt.scatter(DFPC.values[:,0],DFPC.values[:,1], alpha=0.5)\n",
    "plt.axis(\"equal\")"
   ]
  },
  {
   "cell_type": "markdown",
   "metadata": {
    "colab_type": "text",
    "id": "J0g2YbLR46Lt"
   },
   "source": [
    "**EJEMPLO 2** \n",
    "\n",
    "Volvamos con IRIS"
   ]
  },
  {
   "cell_type": "code",
   "execution_count": null,
   "metadata": {
    "colab": {
     "base_uri": "https://localhost:8080/",
     "height": 291
    },
    "colab_type": "code",
    "id": "ChqP5FFizj-J",
    "outputId": "47da4907-a633-4661-e569-16cfb10ba4ff"
   },
   "outputs": [
    {
     "data": {
      "image/png": "[encoded data removed]",
      "text/plain": [
       "<Figure size 432x288 with 1 Axes>"
      ]
     },
     "metadata": {
      "tags": []
     },
     "output_type": "display_data"
    }
   ],
   "source": [
    "from sklearn import datasets\n",
    "\n",
    "iris = datasets.load_iris()\n",
    "X = iris.data\n",
    "y = iris.target\n",
    "#In general a good idea is to scale the data\n",
    "scaler = StandardScaler()\n",
    "scaler.fit(X)\n",
    "X=scaler.transform(X)    \n",
    "\n",
    "pca = PCA()\n",
    "x_new = pca.fit_transform(X)\n",
    "columnasiris=[\"sepal length\",\t\"sepal width\",\t\"petal length\",\t\"petal width\"]\n",
    "def biplot(score,coeff,labels=None):\n",
    "    xs = score[:,0]\n",
    "    ys = score[:,1]\n",
    "    n = coeff.shape[0]\n",
    "    scalex = 1.0/(xs.max() - xs.min())\n",
    "    scaley = 1.0/(ys.max() - ys.min())\n",
    "    plt.scatter(xs * scalex,ys * scaley, c = y)\n",
    "    for i in range(n):\n",
    "        plt.arrow(0, 0, coeff[i,0], coeff[i,1],color = 'r',alpha = 0.5)\n",
    "        if labels is None:\n",
    "            plt.text(coeff[i,0]* 1.15, coeff[i,1] * 1.15, columnasiris[i], color = 'g', ha = 'center', va = 'center')\n",
    "        else:\n",
    "            plt.text(coeff[i,0]* 1.15, coeff[i,1] * 1.15, labels[i], color = 'g', ha = 'center', va = 'center')\n",
    "plt.xlim(-1,1)\n",
    "plt.ylim(-1,1)\n",
    "plt.xlabel(\"PC{}\".format(1))\n",
    "plt.ylabel(\"PC{}\".format(2))\n",
    "plt.grid()\n",
    "\n",
    "#Call the function. Use only the 2 PCs.\n",
    "biplot(x_new[:,0:2],np.transpose(pca.components_[0:2, :]))\n",
    "plt.show()"
   ]
  },
  {
   "cell_type": "code",
   "execution_count": null,
   "metadata": {
    "colab": {
     "base_uri": "https://localhost:8080/",
     "height": 84
    },
    "colab_type": "code",
    "id": "a5jviLUg4oKT",
    "outputId": "50c2432a-fecf-4fb3-abce-35703b932450"
   },
   "outputs": [
    {
     "data": {
      "text/plain": [
       "array([[ 0.52106591,  0.37741762],\n",
       "       [-0.26934744,  0.92329566],\n",
       "       [ 0.5804131 ,  0.02449161],\n",
       "       [ 0.56485654,  0.06694199]])"
      ]
     },
     "execution_count": 139,
     "metadata": {
      "tags": []
     },
     "output_type": "execute_result"
    }
   ],
   "source": [
    "np.transpose(pca.components_[0:2, :])"
   ]
  }
 ],
 "metadata": {
  "colab": {
   "name": "ACP_Ejemplitos.ipynb",
   "provenance": []
  },
  "kernelspec": {
   "display_name": "Python 3",
   "language": "python",
   "name": "python3"
  },
  "language_info": {
   "codemirror_mode": {
    "name": "ipython",
    "version": 3
   },
   "file_extension": ".py",
   "mimetype": "text/x-python",
   "name": "python",
   "nbconvert_exporter": "python",
   "pygments_lexer": "ipython3",
   "version": "3.8.5"
  },
  "toc": {
   "base_numbering": 1,
   "nav_menu": {},
   "number_sections": false,
   "sideBar": true,
   "skip_h1_title": false,
   "title_cell": "Table of Contents",
   "title_sidebar": "Contents",
   "toc_cell": false,
   "toc_position": {},
   "toc_section_display": true,
   "toc_window_display": false
  }
 },
 "nbformat": 4,
 "nbformat_minor": 4
}
