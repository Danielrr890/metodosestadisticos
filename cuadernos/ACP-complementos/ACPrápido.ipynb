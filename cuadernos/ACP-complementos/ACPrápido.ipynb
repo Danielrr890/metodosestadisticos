{
 "cells": [
  {
   "cell_type": "code",
   "execution_count": 1,
   "metadata": {},
   "outputs": [],
   "source": [
    "import numpy as np\n",
    "import matplotlib.pyplot as plt"
   ]
  },
  {
   "cell_type": "code",
   "execution_count": 3,
   "metadata": {},
   "outputs": [],
   "source": [
    "X=np.array([[8,5],[4,7],[5,3],[3,-1],[2,5],[1,-4],[0,1],[-1,3],[-3,-6],[-5,-4],[-6,-6],[-8,-3]])"
   ]
  },
  {
   "cell_type": "code",
   "execution_count": 6,
   "metadata": {},
   "outputs": [
    {
     "data": {
      "text/plain": [
       "array([[ 8,  5],\n",
       "       [ 4,  7],\n",
       "       [ 5,  3],\n",
       "       [ 3, -1],\n",
       "       [ 2,  5],\n",
       "       [ 1, -4],\n",
       "       [ 0,  1],\n",
       "       [-1,  3],\n",
       "       [-3, -6],\n",
       "       [-5, -4],\n",
       "       [-6, -6],\n",
       "       [-8, -3]])"
      ]
     },
     "execution_count": 6,
     "metadata": {},
     "output_type": "execute_result"
    }
   ],
   "source": [
    "X"
   ]
  },
  {
   "cell_type": "code",
   "execution_count": 7,
   "metadata": {},
   "outputs": [],
   "source": [
    "S=X.T@X*(1/11)"
   ]
  },
  {
   "cell_type": "code",
   "execution_count": 8,
   "metadata": {},
   "outputs": [
    {
     "data": {
      "text/plain": [
       "array([[23.09090909, 16.45454545],\n",
       "       [16.45454545, 21.09090909]])"
      ]
     },
     "execution_count": 8,
     "metadata": {},
     "output_type": "execute_result"
    }
   ],
   "source": [
    "S"
   ]
  },
  {
   "cell_type": "code",
   "execution_count": 10,
   "metadata": {},
   "outputs": [],
   "source": [
    "Valp=np.linalg.eig(S)"
   ]
  },
  {
   "cell_type": "code",
   "execution_count": 11,
   "metadata": {},
   "outputs": [
    {
     "data": {
      "text/plain": [
       "array([38.57581328,  5.6060049 ])"
      ]
     },
     "execution_count": 11,
     "metadata": {},
     "output_type": "execute_result"
    }
   ],
   "source": [
    "Valp[0]#Valores propios"
   ]
  },
  {
   "cell_type": "code",
   "execution_count": 12,
   "metadata": {},
   "outputs": [
    {
     "data": {
      "text/plain": [
       "array([[ 0.72823813, -0.68532417],\n",
       "       [ 0.68532417,  0.72823813]])"
      ]
     },
     "execution_count": 12,
     "metadata": {},
     "output_type": "execute_result"
    }
   ],
   "source": [
    "Valp[1] #Vectores Propios"
   ]
  },
  {
   "cell_type": "code",
   "execution_count": 13,
   "metadata": {},
   "outputs": [],
   "source": [
    "Y=X@Valp[1]"
   ]
  },
  {
   "cell_type": "code",
   "execution_count": 14,
   "metadata": {},
   "outputs": [
    {
     "data": {
      "text/plain": [
       "array([[ 9.25252593, -1.8414027 ],\n",
       "       [ 7.71022174,  2.35637025],\n",
       "       [ 5.69716318, -1.24190646],\n",
       "       [ 1.49939023, -2.78421065],\n",
       "       [ 4.88309713,  2.27054233],\n",
       "       [-2.01305855, -3.59827671],\n",
       "       [ 0.68532417,  0.72823813],\n",
       "       [ 1.32773438,  2.87003857],\n",
       "       [-6.29665943, -2.31345629],\n",
       "       [-6.38248736,  0.51366832],\n",
       "       [-8.48137383, -0.25748377],\n",
       "       [-7.88187759,  3.29787897]])"
      ]
     },
     "execution_count": 14,
     "metadata": {},
     "output_type": "execute_result"
    }
   ],
   "source": [
    "Y"
   ]
  },
  {
   "cell_type": "code",
   "execution_count": 29,
   "metadata": {},
   "outputs": [
    {
     "data": {
      "image/png": "[encoded data removed]",
      "text/plain": [
       "<Figure size 432x288 with 1 Axes>"
      ]
     },
     "metadata": {
      "needs_background": "light"
     },
     "output_type": "display_data"
    }
   ],
   "source": [
    "labels=list(\"ABCDEFGHIJKL\")\n",
    "plt.scatter(Y.T[0],Y.T[1])\n",
    "plt.scatter(X.T[0],X.T[1])\n",
    "plt.ylim(-10,10)\n",
    "plt.grid()"
   ]
  },
  {
   "cell_type": "code",
   "execution_count": null,
   "metadata": {},
   "outputs": [],
   "source": []
  }
 ],
 "metadata": {
  "kernelspec": {
   "display_name": "Python 3",
   "language": "python",
   "name": "python3"
  },
  "language_info": {
   "codemirror_mode": {
    "name": "ipython",
    "version": 3
   },
   "file_extension": ".py",
   "mimetype": "text/x-python",
   "name": "python",
   "nbconvert_exporter": "python",
   "pygments_lexer": "ipython3",
   "version": "3.8.5"
  }
 },
 "nbformat": 4,
 "nbformat_minor": 4
}
